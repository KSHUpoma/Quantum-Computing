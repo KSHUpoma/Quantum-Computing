{
  "nbformat": 4,
  "nbformat_minor": 0,
  "metadata": {
    "colab": {
      "provenance": [],
      "toc_visible": true
    },
    "kernelspec": {
      "name": "python3",
      "display_name": "Python 3"
    },
    "language_info": {
      "name": "python"
    }
  },
  "cells": [
    {
      "cell_type": "code",
      "execution_count": null,
      "metadata": {
        "id": "JiMZzLrxh6Ul"
      },
      "outputs": [],
      "source": []
    },
    {
      "cell_type": "markdown",
      "source": [
        "# In this part, we will implement the BB84 protocol between Alice and Bob."
      ],
      "metadata": {
        "id": "bTlZ253oiBtG"
      }
    },
    {
      "cell_type": "markdown",
      "source": [
        "# Problem #2.1\n",
        "Let's start by creating a BB84 object and ensuring the following attributes have been created:\n",
        "\n",
        "* qubit\n",
        "* simulator"
      ],
      "metadata": {
        "id": "A96jRKIXiPgf"
      }
    },
    {
      "cell_type": "code",
      "source": [
        "# @title\n",
        "import warnings\n",
        "warnings.filterwarnings('ignore')\n",
        "\n",
        "\n",
        "try:\n",
        "    import cirq\n",
        "except ImportError:\n",
        "    print('installing cirq...')\n",
        "    !pip install cirq --quiet\n",
        "    import cirq\n",
        "    print('installed cirq.')\n",
        "\n",
        "\n",
        "#!git clone https://github.com/the-codingschool/bb84.git\n",
        "#from bb84.bb84 import BB84\n",
        "from cirq import NamedQubit, Simulator, Circuit\n",
        "\n",
        "class BB84:\n",
        "\n",
        "    \"\"\"\n",
        "    Implements the BB84 protocol for quantum key distribution.\n",
        "\n",
        "    The BB84 protocol allows two parties, Alice and Bob, to generate a shared secret key, which can then be used\n",
        "    for secure communication. The protocol also involves checking for the presence of an eavesdropper, Eve.\n",
        "    This implementation provides a simulated environment for the protocol's execution, including the potential\n",
        "    interception by Eve.\n",
        "\n",
        "\n",
        "    <b>NOTE</b>:\n",
        "        This class requires external definitions for the quantum circuits and simulator to function properly.\n",
        "\n",
        "    <br>\n",
        "\n",
        "    © 2024 The Coding School, All rights reserved.\n",
        "    \"\"\"\n",
        "\n",
        "    qubit: NamedQubit\n",
        "    \"\"\"The qubit being used for the protocol. Must be defined externally, for example:\n",
        "    ```python\n",
        "    protocol.qubit = cirq.NamedQubit('q0')\n",
        "    ```\n",
        "    \"\"\"\n",
        "\n",
        "    simulator: Simulator\n",
        "    \"\"\"The quantum circuit simulator. Must be defined externally, for example:\n",
        "    ```python\n",
        "    protocol.simulator = cirq.Simulator()\n",
        "    ```\n",
        "    \"\"\"\n",
        "\n",
        "    alice_send_0_no_H_circuit: Circuit\n",
        "    \"\"\"The quantum circuit that Alice will use to encode a 0 without an H gate. Must be defined externally, for example:\n",
        "    ```python\n",
        "    protocol.alice_send_0_no_H_circuit = cirq.Circuit()\n",
        "    ```\n",
        "    \"\"\"\n",
        "\n",
        "    alice_send_1_no_H_circuit: Circuit\n",
        "    \"\"\"The quantum circuit that Alice will use to encode a 1 without an H gate. Must be defined externally, for example:\n",
        "    ```python\n",
        "    protocol.alice_send_1_no_H_circuit = cirq.Circuit()\n",
        "    ```\n",
        "    \"\"\"\n",
        "\n",
        "    alice_send_0_H_circuit: Circuit\n",
        "    \"\"\"The quantum circuit that Alice will use to encode a 0 with an H gate. Must be defined externally, for example:\n",
        "    ```python\n",
        "    protocol.alice_send_0_H_circuit = cirq.Circuit()\n",
        "    ```\n",
        "    \"\"\"\n",
        "\n",
        "    alice_send_1_H_circuit: Circuit\n",
        "    \"\"\"The quantum circuit that Alice will use to encode a 1 with an H gate. Must be defined externally, for example:\n",
        "    ```python\n",
        "    protocol.alice_send_1_H_circuit = cirq.Circuit()\n",
        "    ```\n",
        "    \"\"\"\n",
        "\n",
        "    eve_intercept_circuit: Circuit\n",
        "    \"\"\"The quantum circuit that Eve will use to intercept the qubit between Phase 1 and 2. Must be defined externally, for example:\n",
        "    ```python\n",
        "    protocol.eve_intercept_circuit = cirq.Circuit()\n",
        "    ```\n",
        "    \"\"\"\n",
        "\n",
        "    bob_receive_no_H_circuit: Circuit\n",
        "    \"\"\"The quantum circuit that Bob will use to receive and measure the qubit during Phase 3 without using an H gate. Must be defined externally, for example:\n",
        "    ```python\n",
        "    protocol.bob_receive_no_H_circuit = cirq.Circuit()\n",
        "    ```\n",
        "    \"\"\"\n",
        "\n",
        "    bob_receive_H_circuit: Circuit\n",
        "    \"\"\"The quantum circuit that Bob will use to receive and measure the qubit during Phase 3 using an H gate. Must be defined externally, for example:\n",
        "    ```python\n",
        "    protocol.bob_receive_H_circuit = cirq.Circuit()\n",
        "    ```\n",
        "    \"\"\"\n",
        "\n",
        "\n",
        "    eve_intercept: str\n",
        "    \"\"\"Indicates if Eve intercepts the qubits ('yes' or 'no'). Should be set upon initialization or after calling `reset()`.\"\"\"\n",
        "\n",
        "    alice_bit: int\n",
        "    \"\"\"The current bit Alice wants to send. Should only be modified indirectly through the `send_bit` method's parameters.\"\"\"\n",
        "\n",
        "    bob_bit: int\n",
        "    \"\"\"The bit received by Bob after measurement. Should only be modified indirectly through the `send_bit` method's parameters.\"\"\"\n",
        "\n",
        "    eve_bit: int\n",
        "    \"\"\"The bit measured by Eve if interception occurs. Should only be modified indirectly through the `send_bit` method's parameters.\"\"\"\n",
        "\n",
        "    does_alice_apply_H: str\n",
        "    \"\"\"Indicates if Alice applies the Hadamard gate ('yes' or 'no'). Should only be modified indirectly through the `send_bit` method's parameters.\"\"\"\n",
        "\n",
        "    does_bob_apply_H: str\n",
        "    \"\"\"Indicates if Bob applies the Hadamard gate ('yes' or 'no'). Should only be modified indirectly through the `send_bit` method's parameters.\"\"\"\n",
        "\n",
        "\n",
        "    alice_key: list\n",
        "    \"\"\"The secret key generated by Alice. <b>SHOULD NOT BE MODIFIED BY USER</b>.\"\"\"\n",
        "\n",
        "    bob_key: list\n",
        "    \"\"\"The secret key generated by Bob. <b>SHOULD NOT BE MODIFIED BY USER</b>.\"\"\"\n",
        "\n",
        "    eve_key: list\n",
        "    \"\"\"The key intercepted by Eve, if any. <b>SHOULD NOT BE MODIFIED BY USER</b>.\"\"\"\n",
        "\n",
        "    bit_num: int\n",
        "    \"\"\"Counter for the number of bits processed so far. <b>SHOULD NOT BE MODIFIED BY USER</b>.\"\"\"\n",
        "\n",
        "\n",
        "    def __init__(self, eve_intercept = 'no'):\n",
        "\n",
        "      \"\"\"\n",
        "      Initializes the BB84 protocol simulation with default or specified settings.\n",
        "\n",
        "      Parameters:\n",
        "          `eve_intercept` (str, optional): Determines if Eve will attempt to intercept the qubits ('yes' or 'no').\n",
        "                                         Defaults to 'no'.\n",
        "\n",
        "      Example Usage:\n",
        "      ```python\n",
        "      protocol_without_eve = BB84()\n",
        "\n",
        "      also_protocol_without_eve = BB84(eve_intercept = 'no')\n",
        "\n",
        "      protocol_with_eve = BB84(eve_intercept = 'yes')\n",
        "      ```\n",
        "      \"\"\"\n",
        "\n",
        "      self.alice_bit = None\n",
        "      self.bob_bit = None\n",
        "\n",
        "      self.eve_bit = None\n",
        "      self.eve_intercept = eve_intercept\n",
        "\n",
        "      self.does_alice_apply_H = None\n",
        "      self.does_bob_apply_H = None\n",
        "\n",
        "      self.qubit = None\n",
        "      self.simulator = None\n",
        "\n",
        "      self.alice_send_0_no_H_circuit = None\n",
        "      self.alice_send_1_no_H_circuit = None\n",
        "      self.alice_send_0_H_circuit = None\n",
        "      self.alice_send_1_H_circuit = None\n",
        "\n",
        "      self.eve_intercept_circuit = None\n",
        "\n",
        "      self.bob_receive_no_H_circuit = None\n",
        "      self.bob_receive_H_circuit = None\n",
        "\n",
        "      self.alice_key = []\n",
        "      self.bob_key = []\n",
        "      self.eve_key = []\n",
        "\n",
        "      self.bit_num = 1\n",
        "\n",
        "\n",
        "    def phase_1_circuit(self):\n",
        "\n",
        "      \"\"\"\n",
        "      Creates a circuit such that Alice encodes her bit into a qubit and applies an H gate if she's chosen to do so.\n",
        "      Then she sends this qubit through her quantum channel to Bob, hoping Eve does not intercept.\n",
        "\n",
        "      <b>Returns</b>:\n",
        "          The quantum circuit for Phase 1 of BB84 (through Alice sending her qubit).\n",
        "\n",
        "      <b>INTERNAL USE ONLY</b>\n",
        "      \"\"\"\n",
        "\n",
        "      if self.alice_bit == 0:\n",
        "        if self.does_alice_apply_H == 'no':\n",
        "          return self.alice_send_0_no_H_circuit\n",
        "        else:\n",
        "          return self.alice_send_0_H_circuit\n",
        "\n",
        "      else:\n",
        "        if self.does_alice_apply_H == 'no':\n",
        "          return self.alice_send_1_no_H_circuit\n",
        "        else:\n",
        "          return self.alice_send_1_H_circuit\n",
        "\n",
        "\n",
        "    def eve_circuit(self):\n",
        "\n",
        "      \"\"\"\n",
        "      Creates a circuit for Eve's role in the protocol, which depends on if she's intercepting or not.\n",
        "\n",
        "      <b>Returns</b>:\n",
        "          The quantum circuit for Eve's interception if it occurs, otherwise an empty circuit.\n",
        "\n",
        "      <b>INTERNAL USE ONLY</b>\n",
        "      \"\"\"\n",
        "\n",
        "      if self.eve_intercept == 'yes':\n",
        "        return self.eve_intercept_circuit\n",
        "      else:\n",
        "        return cirq.Circuit()\n",
        "\n",
        "\n",
        "    def phase_2_circuit(self):\n",
        "\n",
        "      \"\"\"\n",
        "      Creates a circuit such that Bob receives the qubit, applies an H gate if he's decided to do so,\n",
        "      and then measures it.\n",
        "\n",
        "      <b>Returns</b>:\n",
        "          The quantum circuit for Phase 2 of BB84 (through Bob measuring the qubit).\n",
        "\n",
        "      <b>INTERNAL USE ONLY</b>\n",
        "      \"\"\"\n",
        "\n",
        "      if self.does_bob_apply_H == 'no':\n",
        "        return self.bob_receive_no_H_circuit\n",
        "      else:\n",
        "        return self.bob_receive_H_circuit\n",
        "\n",
        "\n",
        "    def restart(self):\n",
        "\n",
        "      \"\"\"\n",
        "      Resets the protocol such that the circuits are all the same, but they are being used with blank keys and on a new quantum channel.\n",
        "      \"\"\"\n",
        "\n",
        "      self.alice_key = []\n",
        "      self.bob_key = []\n",
        "      self.eve_key = []\n",
        "\n",
        "      self.bit_num = 1\n",
        "\n",
        "\n",
        "    def send_bit(self, alice_bit, does_alice_apply_H, does_bob_apply_H, compare_bits = 'no'):\n",
        "\n",
        "      \"\"\"\n",
        "      Simulates the full BB84 protocol, potentially intercepted by Eve.\n",
        "\n",
        "      Parameters:\n",
        "        <ul>\n",
        "          <li>`alice_bit` (int): The bit Alice wants to send.</li>\n",
        "          <li>`does_alice_apply_H` (str): Indicates if Alice applies the Hadamard gate ('yes' or 'no').</li>\n",
        "          <li>`does_bob_apply_H` (str): Indicates if Bob applies the Hadamard gate ('yes' or 'no').</li>\n",
        "          <li>`compare_bit` (str, optional): Determines if Alice and Bob compare their bits directly ('yes' or 'no').\n",
        "                                       Defaults to 'no'.</li>\n",
        "        </ul>\n",
        "\n",
        "      <b>NOTE</b>:\n",
        "          This method simulates the entire process of sending a bit, including preparation, potential interception,\n",
        "          and measurement. It also handles error checking for uninitialized objects that are required in the given case.\n",
        "\n",
        "\n",
        "      Example Usage:\n",
        "      ```python\n",
        "      # Alice sends a 1 without an H gate and Bob receives and measures the qubit without an H gate.\n",
        "      # The default is that they will not compare their bits and instead will add them to their key\n",
        "      # if they both made the same choice of H gate or not.\n",
        "      protocol.send_bit(alice_bit = 1, does_alice_apply_H = 'no', does_bob_apply_H = 'no')\n",
        "\n",
        "\n",
        "      # Same as above, except Alice and Bob will compare bits instead of adding them to their key.\n",
        "      protocol.send_bit(alice_bit = 1, does_alice_apply_H = 'no', does_bob_apply_H = 'no', compare_bits = 'yes')\n",
        "      ```\n",
        "      \"\"\"\n",
        "\n",
        "      self.alice_bit = alice_bit\n",
        "      self.does_alice_apply_H = does_alice_apply_H\n",
        "      self.does_bob_apply_H = does_bob_apply_H\n",
        "\n",
        "      if self.qubit == None:\n",
        "        print('Error: A qubit object must be defined first.')\n",
        "        return\n",
        "\n",
        "      elif self.simulator == None:\n",
        "        print('Error: A simulator object must be defined first.')\n",
        "        return\n",
        "\n",
        "\n",
        "      # Prepare Alice's qubit\n",
        "      alice_circuit = self.phase_1_circuit()\n",
        "\n",
        "      if alice_circuit == None:\n",
        "\n",
        "        applies_H = 'no H'\n",
        "        if self.does_alice_apply_H == 'yes':\n",
        "          applies_H = 'an H'\n",
        "\n",
        "        print('Error: Alice\\'s circuit for sending a', self.alice_bit, 'with', applies_H, 'must be defined first.')\n",
        "        return\n",
        "\n",
        "\n",
        "      # Eve's interception\n",
        "      eve_circuit = self.eve_circuit()\n",
        "\n",
        "      if eve_circuit == None:\n",
        "\n",
        "        print('Error: Eve\\'s interception circuit must be defined first.')\n",
        "        return\n",
        "\n",
        "      # Bob's measurement\n",
        "      bob_circuit = self.phase_2_circuit()\n",
        "\n",
        "      if bob_circuit == None:\n",
        "\n",
        "        applies_H = 'no H'\n",
        "        if self.does_bob_apply_H == 'yes':\n",
        "          applies_H = 'an H'\n",
        "\n",
        "        print('Error: Bob\\'s circuit for measuring with', applies_H, 'must be defined first.')\n",
        "        return\n",
        "\n",
        "      # Combine circuits and run simulation\n",
        "      bb84_circuit = alice_circuit + eve_circuit + bob_circuit\n",
        "      results = self.simulator.run(bb84_circuit)\n",
        "      self.bob_bit = results.measurements['q0'][0][0]\n",
        "\n",
        "      if self.eve_intercept:\n",
        "        self.eve_bit = results.measurements.get('eve', [[None]])[0][0]\n",
        "\n",
        "      # Print results\n",
        "      print('\\033[43m\\033[1mATTEMPTED BIT', self.bit_num, '\\033[0m\\033[0m')\n",
        "\n",
        "      print('\\n\\033[32m\\033[1mPHASE 1: SENDING\\033[0m\\033[0m\\033[0m')\n",
        "      print('\\033[47m\\033[1mAlice (to herself)\\033[0m\\033[0m: I sent a', self.alice_bit, 'and', 'did not use' if self.does_alice_apply_H == 'no' else 'used', 'an H')\n",
        "\n",
        "      if self.eve_intercept == 'yes':\n",
        "        print('EVE INTERCEPTS!')\n",
        "        print('\\033[47m\\033[1mEve (to herself)\\033[0m\\033[0m: I measured a', self.eve_bit, 'and will now send the qubit to Bob')\n",
        "\n",
        "      print('\\n\\033[32m\\033[1mPHASE 2: RECEIVING\\033[0m\\033[0m')\n",
        "      print('\\033[47m\\033[1mBob (to himself)\\033[0m\\033[0m: I', 'did not use' if self.does_bob_apply_H == 'no' else 'used', 'an H and measured a', self.bob_bit)\n",
        "\n",
        "      print('\\n\\033[32m\\033[1mPHASE 3: COMPARING\\033[0m\\033[0m')\n",
        "      print('Alice and Bob are comparing choice of H\\'s', 'and the bits themselves.' if compare_bits == 'yes' else 'but not the bits themselves.', '\\n')\n",
        "      print('\\033[47m\\033[1mAlice\\033[0m\\033[0m: I', 'did not use' if self.does_alice_apply_H == 'no' else 'used', 'an H')\n",
        "      print('\\033[47m\\033[1mBob\\033[0m\\033[0m: I', 'did not use' if self.does_bob_apply_H == 'no' else 'used', 'an H')\n",
        "\n",
        "      print('')\n",
        "      if compare_bits == 'yes':\n",
        "        print('\\033[47m\\033[1mAlice\\033[0m\\033[0m: I sent a', self.alice_bit)\n",
        "        print('\\033[47m\\033[1mBob\\033[0m\\033[0m: I measured a', self.bob_bit, '\\n')\n",
        "\n",
        "        if self.does_alice_apply_H == self.does_bob_apply_H:\n",
        "          if self.alice_bit == self.bob_bit:\n",
        "            print('\\033[47m\\033[1mAlice and Bob\\033[0m\\033[0m: Our bits match, so it doesn\\'t seem like Eve is intercepting.')\n",
        "\n",
        "            if self.eve_intercept == 'yes':\n",
        "              print('\\033[47m\\033[1mEve (to herself)\\033[0m\\033[0m: Mwuhaha, I\\'ve gone undetected.')\n",
        "\n",
        "          else:\n",
        "            print('\\033[91m\\033[1mAlice and Bob: Our bits are different, so Eve must have intercepted! Let\\'s start over with new keys and a new quantum channel!\\033[0m\\033[0m')\n",
        "            self.restart()\n",
        "\n",
        "        else:\n",
        "          print('\\033[47m\\033[1mAlice and Bob\\033[0m\\033[0m: We made different choices, we should not use this bit.')\n",
        "\n",
        "      else:\n",
        "        if self.does_alice_apply_H == self.does_bob_apply_H:\n",
        "          print('\\033[47m\\033[1mAlice and Bob\\033[0m\\033[0m: Great, let\\'s add this bit to our keys.')\n",
        "          self.alice_key += [self.alice_bit]\n",
        "          self.bob_key += [self.bob_bit]\n",
        "\n",
        "          if self.eve_intercept:\n",
        "            self.eve_key += [self.eve_bit]\n",
        "        else:\n",
        "          print('\\033[47m\\033[1mAlice and Bob\\033[0m\\033[0m: We made different choices, we should not use this bit.')\n",
        "\n",
        "      print('')\n",
        "      print('\\033[47m\\033[1mAlice (to herself)\\033[0m\\033[0m: My key is now', self.alice_key)\n",
        "      print('\\033[47m\\033[1mBob (to himself)\\033[0m\\033[0m: My key is now', self.bob_key)\n",
        "\n",
        "      if self.eve_intercept == 'yes':\n",
        "        print('\\033[47m\\033[1mEve (to herself)\\033[0m\\033[0m: My key is now:', self.eve_key)\n",
        "\n",
        "\n",
        "      print('\\nThe circuit used this round:', bb84_circuit)\n",
        "\n",
        "      self.bit_num += 1\n",
        "      print('='*75, end='\\n\\n')\n",
        "\n",
        "import matplotlib.pyplot as plt\n"
      ],
      "metadata": {
        "colab": {
          "base_uri": "https://localhost:8080/"
        },
        "id": "VTYwNVrQjmTb",
        "outputId": "6cbe1d93-6d0a-4702-c85a-830e78021b40"
      },
      "execution_count": 9,
      "outputs": [
        {
          "output_type": "stream",
          "name": "stdout",
          "text": [
            "installing cirq...\n",
            "\u001b[2K     \u001b[90m━━━━━━━━━━━━━━━━━━━━━━━━━━━━━━━━━━━━━━━━\u001b[0m \u001b[32m45.6/45.6 kB\u001b[0m \u001b[31m1.8 MB/s\u001b[0m eta \u001b[36m0:00:00\u001b[0m\n",
            "\u001b[?25h  Preparing metadata (setup.py) ... \u001b[?25l\u001b[?25hdone\n",
            "\u001b[2K   \u001b[90m━━━━━━━━━━━━━━━━━━━━━━━━━━━━━━━━━━━━━━━━\u001b[0m \u001b[32m1.9/1.9 MB\u001b[0m \u001b[31m23.2 MB/s\u001b[0m eta \u001b[36m0:00:00\u001b[0m\n",
            "\u001b[2K   \u001b[90m━━━━━━━━━━━━━━━━━━━━━━━━━━━━━━━━━━━━━━━━\u001b[0m \u001b[32m532.7/532.7 kB\u001b[0m \u001b[31m26.9 MB/s\u001b[0m eta \u001b[36m0:00:00\u001b[0m\n",
            "\u001b[2K   \u001b[90m━━━━━━━━━━━━━━━━━━━━━━━━━━━━━━━━━━━━━━━━\u001b[0m \u001b[32m60.5/60.5 kB\u001b[0m \u001b[31m3.7 MB/s\u001b[0m eta \u001b[36m0:00:00\u001b[0m\n",
            "\u001b[2K   \u001b[90m━━━━━━━━━━━━━━━━━━━━━━━━━━━━━━━━━━━━━━━━\u001b[0m \u001b[32m69.3/69.3 kB\u001b[0m \u001b[31m4.8 MB/s\u001b[0m eta \u001b[36m0:00:00\u001b[0m\n",
            "\u001b[2K   \u001b[90m━━━━━━━━━━━━━━━━━━━━━━━━━━━━━━━━━━━━━━━━\u001b[0m \u001b[32m596.5/596.5 kB\u001b[0m \u001b[31m28.0 MB/s\u001b[0m eta \u001b[36m0:00:00\u001b[0m\n",
            "\u001b[2K   \u001b[90m━━━━━━━━━━━━━━━━━━━━━━━━━━━━━━━━━━━━━━━━\u001b[0m \u001b[32m202.9/202.9 kB\u001b[0m \u001b[31m14.2 MB/s\u001b[0m eta \u001b[36m0:00:00\u001b[0m\n",
            "\u001b[2K   \u001b[90m━━━━━━━━━━━━━━━━━━━━━━━━━━━━━━━━━━━━━━━━\u001b[0m \u001b[32m53.0/53.0 kB\u001b[0m \u001b[31m3.8 MB/s\u001b[0m eta \u001b[36m0:00:00\u001b[0m\n",
            "\u001b[2K   \u001b[90m━━━━━━━━━━━━━━━━━━━━━━━━━━━━━━━━━━━━━━━━\u001b[0m \u001b[32m6.5/6.5 MB\u001b[0m \u001b[31m13.5 MB/s\u001b[0m eta \u001b[36m0:00:00\u001b[0m\n",
            "\u001b[2K   \u001b[90m━━━━━━━━━━━━━━━━━━━━━━━━━━━━━━━━━━━━━━━━\u001b[0m \u001b[32m2.2/2.2 MB\u001b[0m \u001b[31m59.7 MB/s\u001b[0m eta \u001b[36m0:00:00\u001b[0m\n",
            "\u001b[2K   \u001b[90m━━━━━━━━━━━━━━━━━━━━━━━━━━━━━━━━━━━━━━━━\u001b[0m \u001b[32m2.7/2.7 MB\u001b[0m \u001b[31m54.0 MB/s\u001b[0m eta \u001b[36m0:00:00\u001b[0m\n",
            "\u001b[2K   \u001b[90m━━━━━━━━━━━━━━━━━━━━━━━━━━━━━━━━━━━━━━━━\u001b[0m \u001b[32m1.7/1.7 MB\u001b[0m \u001b[31m46.2 MB/s\u001b[0m eta \u001b[36m0:00:00\u001b[0m\n",
            "\u001b[2K   \u001b[90m━━━━━━━━━━━━━━━━━━━━━━━━━━━━━━━━━━━━━━━━\u001b[0m \u001b[32m117.7/117.7 kB\u001b[0m \u001b[31m8.9 MB/s\u001b[0m eta \u001b[36m0:00:00\u001b[0m\n",
            "\u001b[2K   \u001b[90m━━━━━━━━━━━━━━━━━━━━━━━━━━━━━━━━━━━━━━━━\u001b[0m \u001b[32m739.1/739.1 kB\u001b[0m \u001b[31m36.1 MB/s\u001b[0m eta \u001b[36m0:00:00\u001b[0m\n",
            "\u001b[?25h  Building wheel for rpcq (setup.py) ... \u001b[?25l\u001b[?25hdone\n",
            "installed cirq.\n"
          ]
        }
      ]
    },
    {
      "cell_type": "code",
      "source": [
        "my_protocol = BB84()\n",
        "\n",
        "my_protocol.qubit = cirq.NamedQubit('q0')\n",
        "my_protocol.simulator = cirq.Simulator()"
      ],
      "metadata": {
        "id": "ukHLvHU3kEuV"
      },
      "execution_count": 10,
      "outputs": []
    },
    {
      "cell_type": "markdown",
      "source": [
        "# Problem #2.2\n",
        "Now, let's create a circuit that represents Alice encoding a 0 into a qubit and not applying an H gate.\n",
        "\n",
        "\n",
        "This should be stored in the my_protocol.alice_send_0_no_H_circuit attribute."
      ],
      "metadata": {
        "id": "4qoF4JpOkkM-"
      }
    },
    {
      "cell_type": "code",
      "source": [
        "circuit = cirq.Circuit()\n",
        "\n",
        "circuit.append(cirq.I(my_protocol.qubit))\n",
        "circuit.append(cirq.I(my_protocol.qubit))\n",
        "\n",
        "my_protocol.alice_send_0_no_H_circuit = circuit"
      ],
      "metadata": {
        "id": "GH4NUofoksHx"
      },
      "execution_count": 11,
      "outputs": []
    },
    {
      "cell_type": "markdown",
      "source": [
        "# Problem #2.3\n",
        "Now, let's create a circuit that represents Bob not applying an H gate and then measuring.\n",
        "\n",
        "\n",
        "\n",
        "This should be stored in the my_protocol.bob_receive_no_H_circuit attribute."
      ],
      "metadata": {
        "id": "B01Wco6rkwA5"
      }
    },
    {
      "cell_type": "code",
      "source": [
        "circuit = cirq.Circuit()\n",
        "\n",
        "circuit.append(cirq.I(my_protocol.qubit))\n",
        "circuit.append(cirq.measure(my_protocol.qubit))\n",
        "\n",
        "my_protocol.bob_receive_no_H_circuit = circuit"
      ],
      "metadata": {
        "id": "fjmLvgxWk1nH"
      },
      "execution_count": 12,
      "outputs": []
    },
    {
      "cell_type": "markdown",
      "source": [
        "# Problem #2.4\n",
        "Lastly, let's test our code out by using the my_protocol.send_bit(...) method. Make sure to provide the following parameters to use our code from above:\n",
        "\n",
        "* alice_bit = 0\n",
        "* does_alice_apply_H = 'no'\n",
        "* does_bob_apply_H = 'no'\n",
        "\n",
        "**NOTE: If everything has been coded correctly, you should see a \"script\" for this attempt to send a bit.**"
      ],
      "metadata": {
        "id": "zwnbq-AMlM6-"
      }
    },
    {
      "cell_type": "code",
      "source": [
        "my_protocol.send_bit(alice_bit=0, does_alice_apply_H='no', does_bob_apply_H='no')"
      ],
      "metadata": {
        "colab": {
          "base_uri": "https://localhost:8080/"
        },
        "id": "skXq_f3UlY0Z",
        "outputId": "6ff7d7d6-7aed-42e6-fcdd-3c5c6187ef43"
      },
      "execution_count": 13,
      "outputs": [
        {
          "output_type": "stream",
          "name": "stdout",
          "text": [
            "\u001b[43m\u001b[1mATTEMPTED BIT 1 \u001b[0m\u001b[0m\n",
            "\n",
            "\u001b[32m\u001b[1mPHASE 1: SENDING\u001b[0m\u001b[0m\u001b[0m\n",
            "\u001b[47m\u001b[1mAlice (to herself)\u001b[0m\u001b[0m: I sent a 0 and did not use an H\n",
            "\n",
            "\u001b[32m\u001b[1mPHASE 2: RECEIVING\u001b[0m\u001b[0m\n",
            "\u001b[47m\u001b[1mBob (to himself)\u001b[0m\u001b[0m: I did not use an H and measured a 0\n",
            "\n",
            "\u001b[32m\u001b[1mPHASE 3: COMPARING\u001b[0m\u001b[0m\n",
            "Alice and Bob are comparing choice of H's but not the bits themselves. \n",
            "\n",
            "\u001b[47m\u001b[1mAlice\u001b[0m\u001b[0m: I did not use an H\n",
            "\u001b[47m\u001b[1mBob\u001b[0m\u001b[0m: I did not use an H\n",
            "\n",
            "\u001b[47m\u001b[1mAlice and Bob\u001b[0m\u001b[0m: Great, let's add this bit to our keys.\n",
            "\n",
            "\u001b[47m\u001b[1mAlice (to herself)\u001b[0m\u001b[0m: My key is now [0]\n",
            "\u001b[47m\u001b[1mBob (to himself)\u001b[0m\u001b[0m: My key is now [0]\n",
            "\n",
            "The circuit used this round: q0: ───I───I───I───M───\n",
            "===========================================================================\n",
            "\n"
          ]
        }
      ]
    },
    {
      "cell_type": "markdown",
      "source": [
        "# Reflection\n",
        "* Did Alice and Bob end up using this bit in their key and is it the same value (0 or 1)?\n",
        "\n",
        "* Will this always be the case provided Alice and Bob make the same choices. In other words, if you run the code again should you expect the same result every time?"
      ],
      "metadata": {
        "id": "SDJKD5K2l_8L"
      }
    },
    {
      "cell_type": "markdown",
      "source": [
        "# Solution\n",
        "* Yes, Alice and Bob ended up using this bit as part of their key and they both had a 0.\n",
        "\n",
        "* Yes, since Alice and Bob both decided not to use an H gate AND there's no Eve interception they will always get the same result."
      ],
      "metadata": {
        "id": "EiyOo7StmNvB"
      }
    },
    {
      "cell_type": "markdown",
      "source": [
        "# Problem #2.5\n",
        "\n",
        "Confirm your reflection answers by sending another bit with the same criteria (0 and no H's) 3 more times."
      ],
      "metadata": {
        "id": "pB7lBMW3mY84"
      }
    },
    {
      "cell_type": "code",
      "source": [
        "my_protocol.send_bit(alice_bit=0, does_alice_apply_H='no', does_bob_apply_H='no')\n",
        "my_protocol.send_bit(alice_bit=0, does_alice_apply_H='no', does_bob_apply_H='no')\n",
        "my_protocol.send_bit(alice_bit=0, does_alice_apply_H='no', does_bob_apply_H='no')"
      ],
      "metadata": {
        "colab": {
          "base_uri": "https://localhost:8080/"
        },
        "id": "pZE6daOymfyO",
        "outputId": "78ae76c5-957e-44fa-e2df-2c3e37b0617d"
      },
      "execution_count": 14,
      "outputs": [
        {
          "output_type": "stream",
          "name": "stdout",
          "text": [
            "\u001b[43m\u001b[1mATTEMPTED BIT 2 \u001b[0m\u001b[0m\n",
            "\n",
            "\u001b[32m\u001b[1mPHASE 1: SENDING\u001b[0m\u001b[0m\u001b[0m\n",
            "\u001b[47m\u001b[1mAlice (to herself)\u001b[0m\u001b[0m: I sent a 0 and did not use an H\n",
            "\n",
            "\u001b[32m\u001b[1mPHASE 2: RECEIVING\u001b[0m\u001b[0m\n",
            "\u001b[47m\u001b[1mBob (to himself)\u001b[0m\u001b[0m: I did not use an H and measured a 0\n",
            "\n",
            "\u001b[32m\u001b[1mPHASE 3: COMPARING\u001b[0m\u001b[0m\n",
            "Alice and Bob are comparing choice of H's but not the bits themselves. \n",
            "\n",
            "\u001b[47m\u001b[1mAlice\u001b[0m\u001b[0m: I did not use an H\n",
            "\u001b[47m\u001b[1mBob\u001b[0m\u001b[0m: I did not use an H\n",
            "\n",
            "\u001b[47m\u001b[1mAlice and Bob\u001b[0m\u001b[0m: Great, let's add this bit to our keys.\n",
            "\n",
            "\u001b[47m\u001b[1mAlice (to herself)\u001b[0m\u001b[0m: My key is now [0, 0]\n",
            "\u001b[47m\u001b[1mBob (to himself)\u001b[0m\u001b[0m: My key is now [0, 0]\n",
            "\n",
            "The circuit used this round: q0: ───I───I───I───M───\n",
            "===========================================================================\n",
            "\n",
            "\u001b[43m\u001b[1mATTEMPTED BIT 3 \u001b[0m\u001b[0m\n",
            "\n",
            "\u001b[32m\u001b[1mPHASE 1: SENDING\u001b[0m\u001b[0m\u001b[0m\n",
            "\u001b[47m\u001b[1mAlice (to herself)\u001b[0m\u001b[0m: I sent a 0 and did not use an H\n",
            "\n",
            "\u001b[32m\u001b[1mPHASE 2: RECEIVING\u001b[0m\u001b[0m\n",
            "\u001b[47m\u001b[1mBob (to himself)\u001b[0m\u001b[0m: I did not use an H and measured a 0\n",
            "\n",
            "\u001b[32m\u001b[1mPHASE 3: COMPARING\u001b[0m\u001b[0m\n",
            "Alice and Bob are comparing choice of H's but not the bits themselves. \n",
            "\n",
            "\u001b[47m\u001b[1mAlice\u001b[0m\u001b[0m: I did not use an H\n",
            "\u001b[47m\u001b[1mBob\u001b[0m\u001b[0m: I did not use an H\n",
            "\n",
            "\u001b[47m\u001b[1mAlice and Bob\u001b[0m\u001b[0m: Great, let's add this bit to our keys.\n",
            "\n",
            "\u001b[47m\u001b[1mAlice (to herself)\u001b[0m\u001b[0m: My key is now [0, 0, 0]\n",
            "\u001b[47m\u001b[1mBob (to himself)\u001b[0m\u001b[0m: My key is now [0, 0, 0]\n",
            "\n",
            "The circuit used this round: q0: ───I───I───I───M───\n",
            "===========================================================================\n",
            "\n",
            "\u001b[43m\u001b[1mATTEMPTED BIT 4 \u001b[0m\u001b[0m\n",
            "\n",
            "\u001b[32m\u001b[1mPHASE 1: SENDING\u001b[0m\u001b[0m\u001b[0m\n",
            "\u001b[47m\u001b[1mAlice (to herself)\u001b[0m\u001b[0m: I sent a 0 and did not use an H\n",
            "\n",
            "\u001b[32m\u001b[1mPHASE 2: RECEIVING\u001b[0m\u001b[0m\n",
            "\u001b[47m\u001b[1mBob (to himself)\u001b[0m\u001b[0m: I did not use an H and measured a 0\n",
            "\n",
            "\u001b[32m\u001b[1mPHASE 3: COMPARING\u001b[0m\u001b[0m\n",
            "Alice and Bob are comparing choice of H's but not the bits themselves. \n",
            "\n",
            "\u001b[47m\u001b[1mAlice\u001b[0m\u001b[0m: I did not use an H\n",
            "\u001b[47m\u001b[1mBob\u001b[0m\u001b[0m: I did not use an H\n",
            "\n",
            "\u001b[47m\u001b[1mAlice and Bob\u001b[0m\u001b[0m: Great, let's add this bit to our keys.\n",
            "\n",
            "\u001b[47m\u001b[1mAlice (to herself)\u001b[0m\u001b[0m: My key is now [0, 0, 0, 0]\n",
            "\u001b[47m\u001b[1mBob (to himself)\u001b[0m\u001b[0m: My key is now [0, 0, 0, 0]\n",
            "\n",
            "The circuit used this round: q0: ───I───I───I───M───\n",
            "===========================================================================\n",
            "\n"
          ]
        }
      ]
    },
    {
      "cell_type": "markdown",
      "source": [
        "# Problem #2.6\n",
        "* At this point, Alice and Bob should both have keys that are 4 bits long that they believe are the same. However, they have not compared any bits to check for an eavesdropper yet.\n",
        "\n",
        "\n",
        "* In the cell below, send another bit with the same criteria but also specifying that the parameter compare_bit = 'yes'."
      ],
      "metadata": {
        "id": "t9d9Q-ybmwro"
      }
    },
    {
      "cell_type": "code",
      "source": [
        "my_protocol.send_bit(alice_bit=0, does_alice_apply_H='no', does_bob_apply_H='no')\n"
      ],
      "metadata": {
        "colab": {
          "base_uri": "https://localhost:8080/"
        },
        "id": "5_OHZ3xhm4Xb",
        "outputId": "f38398ef-e44a-46d6-87cf-6c88a02ec2f1"
      },
      "execution_count": 17,
      "outputs": [
        {
          "output_type": "stream",
          "name": "stdout",
          "text": [
            "\u001b[43m\u001b[1mATTEMPTED BIT 5 \u001b[0m\u001b[0m\n",
            "\n",
            "\u001b[32m\u001b[1mPHASE 1: SENDING\u001b[0m\u001b[0m\u001b[0m\n",
            "\u001b[47m\u001b[1mAlice (to herself)\u001b[0m\u001b[0m: I sent a 0 and did not use an H\n",
            "\n",
            "\u001b[32m\u001b[1mPHASE 2: RECEIVING\u001b[0m\u001b[0m\n",
            "\u001b[47m\u001b[1mBob (to himself)\u001b[0m\u001b[0m: I did not use an H and measured a 0\n",
            "\n",
            "\u001b[32m\u001b[1mPHASE 3: COMPARING\u001b[0m\u001b[0m\n",
            "Alice and Bob are comparing choice of H's but not the bits themselves. \n",
            "\n",
            "\u001b[47m\u001b[1mAlice\u001b[0m\u001b[0m: I did not use an H\n",
            "\u001b[47m\u001b[1mBob\u001b[0m\u001b[0m: I did not use an H\n",
            "\n",
            "\u001b[47m\u001b[1mAlice and Bob\u001b[0m\u001b[0m: Great, let's add this bit to our keys.\n",
            "\n",
            "\u001b[47m\u001b[1mAlice (to herself)\u001b[0m\u001b[0m: My key is now [0, 0, 0, 0, 0]\n",
            "\u001b[47m\u001b[1mBob (to himself)\u001b[0m\u001b[0m: My key is now [0, 0, 0, 0, 0]\n",
            "\n",
            "The circuit used this round: q0: ───I───I───I───M───\n",
            "===========================================================================\n",
            "\n"
          ]
        }
      ]
    },
    {
      "cell_type": "markdown",
      "source": [
        "# Reflection\n",
        "* Did Alice and Bob detect an eavesdropper here? Should they have?\n",
        "\n",
        "* Did Alice and Bob add this bit to their keys? Should they have?"
      ],
      "metadata": {
        "id": "hOhou0fhneHT"
      }
    },
    {
      "cell_type": "markdown",
      "source": [
        "# Solution\n",
        "* No, they didn't detect an eavesdropper because their bits and their choices of using H or not were the same so everything is as it should be. In reality, there is no eavesdropper so there is no reason for the result to have been different.\n",
        "\n",
        "* No, because they have publicly shared this bit, they will not use it as part of their keys. Even if they didn't detect an eavesdropper on the quantum channel, there could be one listening into this classical channel so it would not be wise of Alice and Bob to keep this bit. They only compare bits for the purpose of checking for an eavesdropper."
      ],
      "metadata": {
        "id": "UurZyn6po7s2"
      }
    },
    {
      "cell_type": "markdown",
      "source": [
        "# Problem #2.7\n",
        "Now, try sending a bit such that:\n",
        "\n",
        "* Alice sends a 1.\n",
        "* Alice and Bob both do not use an H.\n",
        "* They do not compare bits."
      ],
      "metadata": {
        "id": "5t78xx0mrdU-"
      }
    },
    {
      "cell_type": "code",
      "source": [
        "my_protocol.send_bit(alice_bit=1, does_alice_apply_H='no', does_bob_apply_H='no')"
      ],
      "metadata": {
        "colab": {
          "base_uri": "https://localhost:8080/"
        },
        "id": "eTIvuoPGrkws",
        "outputId": "5fe9ad1c-5414-445d-a4d7-6bf41d851ca5"
      },
      "execution_count": 18,
      "outputs": [
        {
          "output_type": "stream",
          "name": "stdout",
          "text": [
            "Error: Alice's circuit for sending a 1 with no H must be defined first.\n"
          ]
        }
      ]
    },
    {
      "cell_type": "markdown",
      "source": [
        "# Problem #2.8\n",
        "You should have run into an error. In the space below, fix this error and try sending the bit again."
      ],
      "metadata": {
        "id": "WfRX0JtYsGaw"
      }
    },
    {
      "cell_type": "markdown",
      "source": [
        "# Problem #2.9\n",
        "In the space below, define the remaining attributes:\n",
        "\n",
        "* alice_send_0_H_circuit\n",
        "* alice_send_1_H_circuit\n",
        "* bob_receive_H_circuit"
      ],
      "metadata": {
        "id": "7vd_heYRwJkU"
      }
    },
    {
      "cell_type": "code",
      "source": [
        "circuit = cirq.Circuit()\n",
        "\n",
        "circuit.append(cirq.I(my_protocol.qubit))\n",
        "circuit.append(cirq.H(my_protocol.qubit))\n",
        "\n",
        "my_protocol.alice_send_0_H_circuit = circuit"
      ],
      "metadata": {
        "id": "L7ZDp-DIxFPi"
      },
      "execution_count": 19,
      "outputs": []
    },
    {
      "cell_type": "code",
      "source": [
        "circuit = cirq.Circuit()\n",
        "\n",
        "circuit.append(cirq.X(my_protocol.qubit))\n",
        "circuit.append(cirq.H(my_protocol.qubit))\n",
        "\n",
        "my_protocol.alice_send_1_H_circuit = circuit"
      ],
      "metadata": {
        "id": "gpiHYiwBxGHj"
      },
      "execution_count": 20,
      "outputs": []
    },
    {
      "cell_type": "code",
      "source": [
        "circuit = cirq.Circuit()\n",
        "\n",
        "circuit.append(cirq.H(my_protocol.qubit))\n",
        "circuit.append(cirq.measure(my_protocol.qubit))\n",
        "\n",
        "my_protocol.bob_receive_H_circuit = circuit"
      ],
      "metadata": {
        "id": "sxqFnhHLxLXH"
      },
      "execution_count": 21,
      "outputs": []
    },
    {
      "cell_type": "markdown",
      "source": [
        "# Problem #2.10\n",
        "Now, perform the following transmissions (in this order):\n",
        "\n",
        "* Alice sends a 0 with an H gate and Bob does not use an H gate.\n",
        "* Alice sends a 1 with an H gate and Bob does not use an H gate.\n",
        "* Alice sends a 1 with an H gate and Bob does use an H gate.\n",
        "\n",
        "**NOTE: To ensure either Alice or Bob uses an H gate, you can set the corresponding parameter to 'yes' instead of 'no'.**"
      ],
      "metadata": {
        "id": "mxtc725SxUuh"
      }
    },
    {
      "cell_type": "code",
      "source": [
        "my_protocol.send_bit(alice_bit=0, does_alice_apply_H='yes', does_bob_apply_H='no')"
      ],
      "metadata": {
        "colab": {
          "base_uri": "https://localhost:8080/"
        },
        "id": "KbfqWLPMxe3g",
        "outputId": "183a9804-9d78-4b4c-cd68-6d1c500740cf"
      },
      "execution_count": 23,
      "outputs": [
        {
          "output_type": "stream",
          "name": "stdout",
          "text": [
            "\u001b[43m\u001b[1mATTEMPTED BIT 7 \u001b[0m\u001b[0m\n",
            "\n",
            "\u001b[32m\u001b[1mPHASE 1: SENDING\u001b[0m\u001b[0m\u001b[0m\n",
            "\u001b[47m\u001b[1mAlice (to herself)\u001b[0m\u001b[0m: I sent a 0 and used an H\n",
            "\n",
            "\u001b[32m\u001b[1mPHASE 2: RECEIVING\u001b[0m\u001b[0m\n",
            "\u001b[47m\u001b[1mBob (to himself)\u001b[0m\u001b[0m: I did not use an H and measured a 1\n",
            "\n",
            "\u001b[32m\u001b[1mPHASE 3: COMPARING\u001b[0m\u001b[0m\n",
            "Alice and Bob are comparing choice of H's but not the bits themselves. \n",
            "\n",
            "\u001b[47m\u001b[1mAlice\u001b[0m\u001b[0m: I used an H\n",
            "\u001b[47m\u001b[1mBob\u001b[0m\u001b[0m: I did not use an H\n",
            "\n",
            "\u001b[47m\u001b[1mAlice and Bob\u001b[0m\u001b[0m: We made different choices, we should not use this bit.\n",
            "\n",
            "\u001b[47m\u001b[1mAlice (to herself)\u001b[0m\u001b[0m: My key is now [0, 0, 0, 0, 0]\n",
            "\u001b[47m\u001b[1mBob (to himself)\u001b[0m\u001b[0m: My key is now [0, 0, 0, 0, 0]\n",
            "\n",
            "The circuit used this round: q0: ───I───H───I───M───\n",
            "===========================================================================\n",
            "\n"
          ]
        }
      ]
    },
    {
      "cell_type": "code",
      "source": [
        "my_protocol.send_bit(alice_bit=1, does_alice_apply_H='yes', does_bob_apply_H='no')"
      ],
      "metadata": {
        "colab": {
          "base_uri": "https://localhost:8080/"
        },
        "id": "i4MKWi_ex0-r",
        "outputId": "98bf7716-be4f-4ffb-b897-16bc8260e0ef"
      },
      "execution_count": 24,
      "outputs": [
        {
          "output_type": "stream",
          "name": "stdout",
          "text": [
            "\u001b[43m\u001b[1mATTEMPTED BIT 8 \u001b[0m\u001b[0m\n",
            "\n",
            "\u001b[32m\u001b[1mPHASE 1: SENDING\u001b[0m\u001b[0m\u001b[0m\n",
            "\u001b[47m\u001b[1mAlice (to herself)\u001b[0m\u001b[0m: I sent a 1 and used an H\n",
            "\n",
            "\u001b[32m\u001b[1mPHASE 2: RECEIVING\u001b[0m\u001b[0m\n",
            "\u001b[47m\u001b[1mBob (to himself)\u001b[0m\u001b[0m: I did not use an H and measured a 0\n",
            "\n",
            "\u001b[32m\u001b[1mPHASE 3: COMPARING\u001b[0m\u001b[0m\n",
            "Alice and Bob are comparing choice of H's but not the bits themselves. \n",
            "\n",
            "\u001b[47m\u001b[1mAlice\u001b[0m\u001b[0m: I used an H\n",
            "\u001b[47m\u001b[1mBob\u001b[0m\u001b[0m: I did not use an H\n",
            "\n",
            "\u001b[47m\u001b[1mAlice and Bob\u001b[0m\u001b[0m: We made different choices, we should not use this bit.\n",
            "\n",
            "\u001b[47m\u001b[1mAlice (to herself)\u001b[0m\u001b[0m: My key is now [0, 0, 0, 0, 0]\n",
            "\u001b[47m\u001b[1mBob (to himself)\u001b[0m\u001b[0m: My key is now [0, 0, 0, 0, 0]\n",
            "\n",
            "The circuit used this round: q0: ───X───H───I───M───\n",
            "===========================================================================\n",
            "\n"
          ]
        }
      ]
    },
    {
      "cell_type": "code",
      "source": [
        "my_protocol.send_bit(alice_bit=1, does_alice_apply_H='yes', does_bob_apply_H='yes')"
      ],
      "metadata": {
        "colab": {
          "base_uri": "https://localhost:8080/"
        },
        "id": "2f421T0Ux-LP",
        "outputId": "6e3fe63a-6eb4-4f4a-b638-5f15f00fde88"
      },
      "execution_count": 25,
      "outputs": [
        {
          "output_type": "stream",
          "name": "stdout",
          "text": [
            "\u001b[43m\u001b[1mATTEMPTED BIT 9 \u001b[0m\u001b[0m\n",
            "\n",
            "\u001b[32m\u001b[1mPHASE 1: SENDING\u001b[0m\u001b[0m\u001b[0m\n",
            "\u001b[47m\u001b[1mAlice (to herself)\u001b[0m\u001b[0m: I sent a 1 and used an H\n",
            "\n",
            "\u001b[32m\u001b[1mPHASE 2: RECEIVING\u001b[0m\u001b[0m\n",
            "\u001b[47m\u001b[1mBob (to himself)\u001b[0m\u001b[0m: I used an H and measured a 1\n",
            "\n",
            "\u001b[32m\u001b[1mPHASE 3: COMPARING\u001b[0m\u001b[0m\n",
            "Alice and Bob are comparing choice of H's but not the bits themselves. \n",
            "\n",
            "\u001b[47m\u001b[1mAlice\u001b[0m\u001b[0m: I used an H\n",
            "\u001b[47m\u001b[1mBob\u001b[0m\u001b[0m: I used an H\n",
            "\n",
            "\u001b[47m\u001b[1mAlice and Bob\u001b[0m\u001b[0m: Great, let's add this bit to our keys.\n",
            "\n",
            "\u001b[47m\u001b[1mAlice (to herself)\u001b[0m\u001b[0m: My key is now [0, 0, 0, 0, 0, 1]\n",
            "\u001b[47m\u001b[1mBob (to himself)\u001b[0m\u001b[0m: My key is now [0, 0, 0, 0, 0, 1]\n",
            "\n",
            "The circuit used this round: q0: ───X───H───H───M───\n",
            "===========================================================================\n",
            "\n"
          ]
        }
      ]
    }
  ]
}