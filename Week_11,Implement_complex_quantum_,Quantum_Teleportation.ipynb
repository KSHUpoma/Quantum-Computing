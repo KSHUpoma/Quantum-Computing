{
  "nbformat": 4,
  "nbformat_minor": 0,
  "metadata": {
    "colab": {
      "provenance": [],
      "toc_visible": true
    },
    "kernelspec": {
      "name": "python3",
      "display_name": "Python 3"
    },
    "language_info": {
      "name": "python"
    }
  },
  "cells": [
    {
      "cell_type": "markdown",
      "source": [
        "# Description:\n",
        "\n",
        "---\n",
        "\n",
        "\n",
        "In today's lab, we will review concepts from the first semester that will be useful for us to implement more complex quantum circuits going forward.\n",
        "\n",
        "---\n",
        "\n",
        "\n",
        "\n",
        "**[ADVANCED] Then, we will delve into the practical implementation of the Quantum Teleportation protocol through Cirq. Our objectives for this session are threefold:**\n",
        "\n",
        "* To grasp one of the foundational Quantum Protocols, providing essential knowledge for those involved in this field.\n",
        "\n",
        "* To lay a solid foundation for our upcoming discussions on Quantum Networking, which is just a few weeks away.\n",
        "\n",
        "* To seize the opportunity to brush up on your skills in coding quantum circuits using Cirq."
      ],
      "metadata": {
        "id": "k-7kDGoLosXw"
      }
    },
    {
      "cell_type": "markdown",
      "source": [
        "# Before starting, run the code below to import all necessary functions and libraries."
      ],
      "metadata": {
        "id": "LdvqrH1_o6p8"
      }
    },
    {
      "cell_type": "code",
      "execution_count": 1,
      "metadata": {
        "colab": {
          "base_uri": "https://localhost:8080/"
        },
        "id": "Zu4BfhKKn_fj",
        "outputId": "fc366e8a-4563-48e6-9740-c02d5a603a92"
      },
      "outputs": [
        {
          "output_type": "stream",
          "name": "stdout",
          "text": [
            "installing cirq...\n",
            "\u001b[2K     \u001b[90m━━━━━━━━━━━━━━━━━━━━━━━━━━━━━━━━━━━━━━━━\u001b[0m \u001b[32m45.6/45.6 kB\u001b[0m \u001b[31m2.7 MB/s\u001b[0m eta \u001b[36m0:00:00\u001b[0m\n",
            "\u001b[?25h  Preparing metadata (setup.py) ... \u001b[?25l\u001b[?25hdone\n",
            "\u001b[2K   \u001b[90m━━━━━━━━━━━━━━━━━━━━━━━━━━━━━━━━━━━━━━━━\u001b[0m \u001b[32m1.9/1.9 MB\u001b[0m \u001b[31m29.6 MB/s\u001b[0m eta \u001b[36m0:00:00\u001b[0m\n",
            "\u001b[2K   \u001b[90m━━━━━━━━━━━━━━━━━━━━━━━━━━━━━━━━━━━━━━━━\u001b[0m \u001b[32m532.7/532.7 kB\u001b[0m \u001b[31m23.8 MB/s\u001b[0m eta \u001b[36m0:00:00\u001b[0m\n",
            "\u001b[2K   \u001b[90m━━━━━━━━━━━━━━━━━━━━━━━━━━━━━━━━━━━━━━━━\u001b[0m \u001b[32m60.5/60.5 kB\u001b[0m \u001b[31m3.7 MB/s\u001b[0m eta \u001b[36m0:00:00\u001b[0m\n",
            "\u001b[2K   \u001b[90m━━━━━━━━━━━━━━━━━━━━━━━━━━━━━━━━━━━━━━━━\u001b[0m \u001b[32m69.3/69.3 kB\u001b[0m \u001b[31m4.5 MB/s\u001b[0m eta \u001b[36m0:00:00\u001b[0m\n",
            "\u001b[2K   \u001b[90m━━━━━━━━━━━━━━━━━━━━━━━━━━━━━━━━━━━━━━━━\u001b[0m \u001b[32m596.5/596.5 kB\u001b[0m \u001b[31m31.5 MB/s\u001b[0m eta \u001b[36m0:00:00\u001b[0m\n",
            "\u001b[2K   \u001b[90m━━━━━━━━━━━━━━━━━━━━━━━━━━━━━━━━━━━━━━━━\u001b[0m \u001b[32m202.9/202.9 kB\u001b[0m \u001b[31m12.1 MB/s\u001b[0m eta \u001b[36m0:00:00\u001b[0m\n",
            "\u001b[2K   \u001b[90m━━━━━━━━━━━━━━━━━━━━━━━━━━━━━━━━━━━━━━━━\u001b[0m \u001b[32m53.0/53.0 kB\u001b[0m \u001b[31m3.4 MB/s\u001b[0m eta \u001b[36m0:00:00\u001b[0m\n",
            "\u001b[2K   \u001b[90m━━━━━━━━━━━━━━━━━━━━━━━━━━━━━━━━━━━━━━━━\u001b[0m \u001b[32m6.5/6.5 MB\u001b[0m \u001b[31m90.0 MB/s\u001b[0m eta \u001b[36m0:00:00\u001b[0m\n",
            "\u001b[2K   \u001b[90m━━━━━━━━━━━━━━━━━━━━━━━━━━━━━━━━━━━━━━━━\u001b[0m \u001b[32m2.2/2.2 MB\u001b[0m \u001b[31m57.9 MB/s\u001b[0m eta \u001b[36m0:00:00\u001b[0m\n",
            "\u001b[2K   \u001b[90m━━━━━━━━━━━━━━━━━━━━━━━━━━━━━━━━━━━━━━━━\u001b[0m \u001b[32m2.7/2.7 MB\u001b[0m \u001b[31m69.8 MB/s\u001b[0m eta \u001b[36m0:00:00\u001b[0m\n",
            "\u001b[2K   \u001b[90m━━━━━━━━━━━━━━━━━━━━━━━━━━━━━━━━━━━━━━━━\u001b[0m \u001b[32m1.7/1.7 MB\u001b[0m \u001b[31m52.4 MB/s\u001b[0m eta \u001b[36m0:00:00\u001b[0m\n",
            "\u001b[2K   \u001b[90m━━━━━━━━━━━━━━━━━━━━━━━━━━━━━━━━━━━━━━━━\u001b[0m \u001b[32m117.7/117.7 kB\u001b[0m \u001b[31m8.0 MB/s\u001b[0m eta \u001b[36m0:00:00\u001b[0m\n",
            "\u001b[2K   \u001b[90m━━━━━━━━━━━━━━━━━━━━━━━━━━━━━━━━━━━━━━━━\u001b[0m \u001b[32m739.1/739.1 kB\u001b[0m \u001b[31m36.9 MB/s\u001b[0m eta \u001b[36m0:00:00\u001b[0m\n",
            "\u001b[?25h  Building wheel for rpcq (setup.py) ... \u001b[?25l\u001b[?25hdone\n",
            "installed cirq.\n"
          ]
        }
      ],
      "source": [
        "import random\n",
        "import matplotlib.pyplot as plt\n",
        "import numpy as np\n",
        "def binary_labels(num_qubits):\n",
        "    return [bin(x)[2:].zfill(num_qubits) for x in range(2 ** num_qubits)]\n",
        "plt.rcParams.update({'font.size': 8})\n",
        "try:\n",
        "    import cirq\n",
        "except ImportError:\n",
        "    print(\"installing cirq...\")\n",
        "    !pip install cirq --quiet\n",
        "    import cirq\n",
        "    print(\"installed cirq.\")"
      ]
    },
    {
      "cell_type": "markdown",
      "source": [
        "# Part 1: Quantum Circuits\n",
        "\n",
        "---\n",
        "\n",
        "In this part, you will review how to create and work with quantum circuits in Cirq."
      ],
      "metadata": {
        "id": "5gBxWjX9pB-6"
      }
    },
    {
      "cell_type": "markdown",
      "source": [
        "# Problem #1.1\n",
        "\n",
        "---\n",
        "\n",
        "\n",
        "Together, create a qubit and an empty circuit. Apply an X gate to the qubit. Outout your circuit. Output your final state vector in ket notation."
      ],
      "metadata": {
        "id": "-HtHvRKxpJdK"
      }
    },
    {
      "cell_type": "code",
      "source": [
        "my_qubit = cirq.NamedQubit(\"q0\")\n",
        "my_circuit = cirq.Circuit()\n",
        "my_circuit.append(cirq.X(my_qubit))\n",
        "my_circuit"
      ],
      "metadata": {
        "colab": {
          "base_uri": "https://localhost:8080/",
          "height": 34
        },
        "id": "olNnSaokpPAx",
        "outputId": "10cbaaeb-272f-4947-9248-ae567af2fbeb"
      },
      "execution_count": 2,
      "outputs": [
        {
          "output_type": "execute_result",
          "data": {
            "text/plain": [
              "q0: ───X───"
            ],
            "text/html": [
              "<pre style=\"overflow: auto; white-space: pre;\">q0: ───X───</pre>"
            ]
          },
          "metadata": {},
          "execution_count": 2
        }
      ]
    },
    {
      "cell_type": "code",
      "source": [
        "cirq.dirac_notation(cirq.final_state_vector(my_circuit))"
      ],
      "metadata": {
        "colab": {
          "base_uri": "https://localhost:8080/",
          "height": 36
        },
        "id": "K_6mJEPnqK33",
        "outputId": "b4de3ebe-a83d-41ec-8485-a9431e3a3660"
      },
      "execution_count": 3,
      "outputs": [
        {
          "output_type": "execute_result",
          "data": {
            "text/plain": [
              "'|1⟩'"
            ],
            "application/vnd.google.colaboratory.intrinsic+json": {
              "type": "string"
            }
          },
          "metadata": {},
          "execution_count": 3
        }
      ]
    },
    {
      "cell_type": "markdown",
      "source": [
        "# Problem #1.2\n",
        "\n",
        "---\n",
        "\n",
        "\n",
        "Together, create two qubits and an empty circuit. Apply an X gate to the first qubit and an H gate to the second qubit. Output the circuit and output the final state vector in ket notation."
      ],
      "metadata": {
        "id": "VdJfazvgqN4Y"
      }
    },
    {
      "cell_type": "code",
      "source": [
        "my_qubits = cirq.NamedQubit.range(2, prefix = \"q\")\n",
        "my_circuit = cirq.Circuit()\n",
        "my_circuit.append(cirq.X(my_qubits[0]))\n",
        "my_circuit.append(cirq.H(my_qubits[1]))\n",
        "my_circuit"
      ],
      "metadata": {
        "colab": {
          "base_uri": "https://localhost:8080/",
          "height": 69
        },
        "id": "RZsNIlzDqSOj",
        "outputId": "1d5e36be-4b12-4373-df15-251d4528ee52"
      },
      "execution_count": 4,
      "outputs": [
        {
          "output_type": "execute_result",
          "data": {
            "text/plain": [
              "q0: ───X───\n",
              "\n",
              "q1: ───H───"
            ],
            "text/html": [
              "<pre style=\"overflow: auto; white-space: pre;\">q0: ───X───\n",
              "\n",
              "q1: ───H───</pre>"
            ]
          },
          "metadata": {},
          "execution_count": 4
        }
      ]
    },
    {
      "cell_type": "code",
      "source": [
        "cirq.dirac_notation(cirq.final_state_vector(my_circuit))"
      ],
      "metadata": {
        "colab": {
          "base_uri": "https://localhost:8080/",
          "height": 36
        },
        "id": "5NCf0iXxqdK-",
        "outputId": "592910dc-38e8-490d-fe7b-3ffd9c288595"
      },
      "execution_count": 5,
      "outputs": [
        {
          "output_type": "execute_result",
          "data": {
            "text/plain": [
              "'0.71|10⟩ + 0.71|11⟩'"
            ],
            "application/vnd.google.colaboratory.intrinsic+json": {
              "type": "string"
            }
          },
          "metadata": {},
          "execution_count": 5
        }
      ]
    },
    {
      "cell_type": "markdown",
      "source": [
        "# Problem #1.3\n",
        "\n",
        "---\n",
        "\n",
        "\n",
        "Together, create 5 qubits and an empty circuit. Append a measurement to each qubit and output your circuit. Then simulate the results of your circuit."
      ],
      "metadata": {
        "id": "f6vPYF0kqh22"
      }
    },
    {
      "cell_type": "code",
      "source": [
        "my_qubits = cirq.NamedQubit.range(5, prefix = \"q\")\n",
        "my_circuit = cirq.Circuit()\n",
        "my_circuit.append(cirq.measure(my_qubits))\n",
        "my_circuit"
      ],
      "metadata": {
        "colab": {
          "base_uri": "https://localhost:8080/",
          "height": 173
        },
        "id": "n4zZPYJQqmz-",
        "outputId": "bf7c92a5-f54a-4d9d-807a-b3849a70f23c"
      },
      "execution_count": 6,
      "outputs": [
        {
          "output_type": "execute_result",
          "data": {
            "text/plain": [
              "q0: ───M───\n",
              "       │\n",
              "q1: ───M───\n",
              "       │\n",
              "q2: ───M───\n",
              "       │\n",
              "q3: ───M───\n",
              "       │\n",
              "q4: ───M───"
            ],
            "text/html": [
              "<pre style=\"overflow: auto; white-space: pre;\">q0: ───M───\n",
              "       │\n",
              "q1: ───M───\n",
              "       │\n",
              "q2: ───M───\n",
              "       │\n",
              "q3: ───M───\n",
              "       │\n",
              "q4: ───M───</pre>"
            ]
          },
          "metadata": {},
          "execution_count": 6
        }
      ]
    },
    {
      "cell_type": "code",
      "source": [
        "sim = cirq.Simulator()\n",
        "results = sim.run(my_circuit)\n",
        "results"
      ],
      "metadata": {
        "colab": {
          "base_uri": "https://localhost:8080/"
        },
        "id": "3G3t3Bp7qw6E",
        "outputId": "57981254-5bf6-41a2-abf9-b2f5a4babb7e"
      },
      "execution_count": 7,
      "outputs": [
        {
          "output_type": "execute_result",
          "data": {
            "text/plain": [
              "q0,q1,q2,q3,q4=0, 0, 0, 0, 0"
            ]
          },
          "metadata": {},
          "execution_count": 7
        }
      ]
    },
    {
      "cell_type": "markdown",
      "source": [
        "# Problem #1.4\n",
        "\n",
        "---\n",
        "\n",
        "\n",
        "Independently, create a qubit and an empty circuit. Append an H gate to your qubit. Output your circuit and output the final state vector in ket notation."
      ],
      "metadata": {
        "id": "o8JW5-lJq3RA"
      }
    },
    {
      "cell_type": "code",
      "source": [
        "my_qubit = cirq.NamedQubit(\"q0\")\n",
        "my_circuit = cirq.Circuit()\n",
        "my_circuit.append(cirq.H(my_qubit))\n",
        "my_circuit"
      ],
      "metadata": {
        "colab": {
          "base_uri": "https://localhost:8080/",
          "height": 34
        },
        "id": "8y8SVJ0Sq8-2",
        "outputId": "61faded1-36a5-4651-c971-28f2185f8c1f"
      },
      "execution_count": 8,
      "outputs": [
        {
          "output_type": "execute_result",
          "data": {
            "text/plain": [
              "q0: ───H───"
            ],
            "text/html": [
              "<pre style=\"overflow: auto; white-space: pre;\">q0: ───H───</pre>"
            ]
          },
          "metadata": {},
          "execution_count": 8
        }
      ]
    },
    {
      "cell_type": "code",
      "source": [
        "cirq.dirac_notation(cirq.final_state_vector(my_circuit))"
      ],
      "metadata": {
        "colab": {
          "base_uri": "https://localhost:8080/",
          "height": 36
        },
        "id": "kcyUKiilq_4U",
        "outputId": "9b0b9eb9-0b3c-49c2-fd08-f99a377c3347"
      },
      "execution_count": 9,
      "outputs": [
        {
          "output_type": "execute_result",
          "data": {
            "text/plain": [
              "'0.71|0⟩ + 0.71|1⟩'"
            ],
            "application/vnd.google.colaboratory.intrinsic+json": {
              "type": "string"
            }
          },
          "metadata": {},
          "execution_count": 9
        }
      ]
    },
    {
      "cell_type": "markdown",
      "source": [
        "# Problem #1.5\n",
        "\n",
        "---\n",
        "\n",
        "\n",
        "Independently, create 3 qubits and an empty circuit. Append an X gate to the first qubit, an H gate to each qubit, and a Z gate to the final qubit. Output your circuit and the final state vector in ket notation."
      ],
      "metadata": {
        "id": "Lzveq1Q0rF80"
      }
    },
    {
      "cell_type": "code",
      "source": [
        "my_qubits = cirq.NamedQubit.range(3, prefix = \"q\")\n",
        "my_circuit = cirq.Circuit()\n",
        "my_circuit.append(cirq.X(my_qubits[0]))\n",
        "my_circuit.append(cirq.H.on_each(my_qubits))\n",
        "my_circuit.append(cirq.Z(my_qubits[2]))\n",
        "my_circuit"
      ],
      "metadata": {
        "colab": {
          "base_uri": "https://localhost:8080/",
          "height": 104
        },
        "id": "upBoik2MrLZH",
        "outputId": "36a6d667-5c5a-4d0a-a9a7-cc26a6b007ef"
      },
      "execution_count": 10,
      "outputs": [
        {
          "output_type": "execute_result",
          "data": {
            "text/plain": [
              "q0: ───X───H───\n",
              "\n",
              "q1: ───H───────\n",
              "\n",
              "q2: ───H───Z───"
            ],
            "text/html": [
              "<pre style=\"overflow: auto; white-space: pre;\">q0: ───X───H───\n",
              "\n",
              "q1: ───H───────\n",
              "\n",
              "q2: ───H───Z───</pre>"
            ]
          },
          "metadata": {},
          "execution_count": 10
        }
      ]
    },
    {
      "cell_type": "code",
      "source": [
        "cirq.dirac_notation(cirq.final_state_vector(my_circuit))"
      ],
      "metadata": {
        "colab": {
          "base_uri": "https://localhost:8080/",
          "height": 36
        },
        "id": "sb7MtpjprOSL",
        "outputId": "24ad5819-424e-4e7f-873c-a4290541317f"
      },
      "execution_count": 11,
      "outputs": [
        {
          "output_type": "execute_result",
          "data": {
            "text/plain": [
              "'0.35|000⟩ - 0.35|001⟩ + 0.35|010⟩ - 0.35|011⟩ - 0.35|100⟩ + 0.35|101⟩ - 0.35|110⟩ + 0.35|111⟩'"
            ],
            "application/vnd.google.colaboratory.intrinsic+json": {
              "type": "string"
            }
          },
          "metadata": {},
          "execution_count": 11
        }
      ]
    },
    {
      "cell_type": "markdown",
      "source": [
        "# Problem #1.6\n",
        "\n",
        "---\n",
        "\n",
        "\n",
        "Independently, create two qubits and an empty qircuit. Append an H gate to the first, a CNOT gate such that the first qubit is the control qubit and the second qubit is the target qubit, and an H gate to the second qubit. Output your circuit and the final state vector in ket notation."
      ],
      "metadata": {
        "id": "e5BMRrKLrWRb"
      }
    },
    {
      "cell_type": "code",
      "source": [
        "my_qubits = cirq.NamedQubit.range(2, prefix=\"q\")\n",
        "my_circuit = cirq.Circuit()\n",
        "my_circuit.append(cirq.H(my_qubits[0]))\n",
        "my_circuit.append(cirq.CNOT(my_qubits[0], my_qubits[1]))\n",
        "my_circuit.append(cirq.H(my_qubits[1]))\n",
        "my_circuit"
      ],
      "metadata": {
        "colab": {
          "base_uri": "https://localhost:8080/",
          "height": 69
        },
        "id": "mS1Oo3CcrcPu",
        "outputId": "b6421c74-c977-4bad-9407-a03994e7825b"
      },
      "execution_count": 12,
      "outputs": [
        {
          "output_type": "execute_result",
          "data": {
            "text/plain": [
              "q0: ───H───@───────\n",
              "           │\n",
              "q1: ───────X───H───"
            ],
            "text/html": [
              "<pre style=\"overflow: auto; white-space: pre;\">q0: ───H───@───────\n",
              "           │\n",
              "q1: ───────X───H───</pre>"
            ]
          },
          "metadata": {},
          "execution_count": 12
        }
      ]
    },
    {
      "cell_type": "code",
      "source": [
        "cirq.dirac_notation(cirq.final_state_vector(my_circuit))"
      ],
      "metadata": {
        "colab": {
          "base_uri": "https://localhost:8080/",
          "height": 36
        },
        "id": "AFAZ44icre86",
        "outputId": "9a887ee5-1238-4de8-b939-52f049ace57d"
      },
      "execution_count": 13,
      "outputs": [
        {
          "output_type": "execute_result",
          "data": {
            "text/plain": [
              "'0.5|00⟩ + 0.5|01⟩ + 0.5|10⟩ - 0.5|11⟩'"
            ],
            "application/vnd.google.colaboratory.intrinsic+json": {
              "type": "string"
            }
          },
          "metadata": {},
          "execution_count": 13
        }
      ]
    },
    {
      "cell_type": "markdown",
      "source": [
        "# Problem #1.7\n",
        "\n",
        "---\n",
        "\n",
        "\n",
        "Independently, are the states of the two qubits from Problem #1.6 entangled? Why or why not?"
      ],
      "metadata": {
        "id": "iveau1h0rjhb"
      }
    },
    {
      "cell_type": "code",
      "source": [
        "print(\"No, because of the second H gate, the state of one qubit tells us nothing about the state of the other.\")"
      ],
      "metadata": {
        "colab": {
          "base_uri": "https://localhost:8080/"
        },
        "id": "YixXB_4Lr2Cy",
        "outputId": "78fd96ad-2fb9-4fda-d3bb-b58f20ea6801"
      },
      "execution_count": 14,
      "outputs": [
        {
          "output_type": "stream",
          "name": "stdout",
          "text": [
            "No, because of the second H gate, the state of one qubit tells us nothing about the state of the other.\n"
          ]
        }
      ]
    },
    {
      "cell_type": "markdown",
      "source": [
        "# Problem #1.8\n",
        "\n",
        "---\n",
        "\n",
        "\n",
        "Indepently, create a 3 qubits. Apply an H gate to the first two qubits, a CNOT gate such that the first qubit is the control qubit and the third is the target qubit, and a measurement to each qubit. Output your circuit and simulate the results of your circuit 100 times. Plot the results on a histogram."
      ],
      "metadata": {
        "id": "2m-SK9VSr5dM"
      }
    },
    {
      "cell_type": "code",
      "source": [
        "my_qubits = cirq.NamedQubit.range(3, prefix = \"q\")\n",
        "my_circuit = cirq.Circuit()\n",
        "my_circuit.append(cirq.H.on_each(my_qubits[:2]))\n",
        "my_circuit.append(cirq.CNOT(my_qubits[0], my_qubits[2]))\n",
        "my_circuit.append(cirq.measure(my_qubits))\n",
        "my_circuit"
      ],
      "metadata": {
        "colab": {
          "base_uri": "https://localhost:8080/",
          "height": 104
        },
        "id": "rrfyUfv3r9_j",
        "outputId": "0b730ac2-5062-4a9f-b523-a18a1edbd2a3"
      },
      "execution_count": 15,
      "outputs": [
        {
          "output_type": "execute_result",
          "data": {
            "text/plain": [
              "q0: ───H───@───M───\n",
              "           │   │\n",
              "q1: ───H───┼───M───\n",
              "           │   │\n",
              "q2: ───────X───M───"
            ],
            "text/html": [
              "<pre style=\"overflow: auto; white-space: pre;\">q0: ───H───@───M───\n",
              "           │   │\n",
              "q1: ───H───┼───M───\n",
              "           │   │\n",
              "q2: ───────X───M───</pre>"
            ]
          },
          "metadata": {},
          "execution_count": 15
        }
      ]
    },
    {
      "cell_type": "code",
      "source": [
        "sim = cirq.Simulator()\n",
        "result = sim.run(my_circuit, repetitions = 100)"
      ],
      "metadata": {
        "id": "FHRK7hipsAoN"
      },
      "execution_count": 16,
      "outputs": []
    },
    {
      "cell_type": "code",
      "source": [
        "hist = cirq.plot_state_histogram(result, plt.subplot(), title = 'Qubit States', xlabel = 'States', ylabel = 'Occurrences', tick_label=binary_labels(3))\n",
        "\n",
        "plt.show()"
      ],
      "metadata": {
        "colab": {
          "base_uri": "https://localhost:8080/",
          "height": 460
        },
        "id": "pgtoXmXAsDNS",
        "outputId": "bd600017-2484-4eac-fe40-517a57be9cca"
      },
      "execution_count": 17,
      "outputs": [
        {
          "output_type": "display_data",
          "data": {
            "text/plain": [
              "<Figure size 640x480 with 1 Axes>"
            ],
            "image/png": "[encoded data removed]"
          },
          "metadata": {}
        }
      ]
    },
    {
      "cell_type": "markdown",
      "source": [
        "# Problem #1.9\n",
        "\n",
        "---\n",
        "\n",
        "\n",
        "Are the first and third qubits from Problem #1.8 entangled? Why or why not?"
      ],
      "metadata": {
        "id": "QVe4iRQPsHfD"
      }
    },
    {
      "cell_type": "code",
      "source": [
        "print(\"Yes. They are entangled such that they are always in the same state.\")"
      ],
      "metadata": {
        "colab": {
          "base_uri": "https://localhost:8080/"
        },
        "id": "rsl2on2rtMVw",
        "outputId": "9bb12b43-f885-4394-de46-0afc3c5494de"
      },
      "execution_count": 20,
      "outputs": [
        {
          "output_type": "stream",
          "name": "stdout",
          "text": [
            "Yes. They are entangled such that they are always in the same state.\n"
          ]
        }
      ]
    },
    {
      "cell_type": "markdown",
      "source": [
        "# Part 2: Implementing Quantum Teleportation\n",
        "\n",
        "---\n",
        "\n",
        "\n",
        "In this section, we will work together to implement Quantum Teleportation."
      ],
      "metadata": {
        "id": "Rm7TmxLstVNR"
      }
    },
    {
      "cell_type": "markdown",
      "source": [
        "# Step 1: Alice and Bob share a Bell pair and go their separate ways.\n",
        "**Together, let's create a circuit as follows:**\n",
        "\n",
        "* It has one qubit that represents the message to be sent, one for Alice, and one for Bob.\n",
        "* It has one classical bit for each qubit measurement.\n",
        "* Creates a Bell state with Alice's and Bob's qubits."
      ],
      "metadata": {
        "id": "Occej8e_tajQ"
      }
    },
    {
      "cell_type": "code",
      "source": [
        "# Instantiate the circuit\n",
        "circuit = cirq.Circuit()\n",
        "\n",
        "# Define three qubits\n",
        "msg = cirq.NamedQubit(\"Message\")\n",
        "alice = cirq.NamedQubit(\"Alice\")\n",
        "bob = cirq.NamedQubit(\"Bob\")\n",
        "\n",
        "# Entangle Alice and Bob's qubits\n",
        "circuit.append([cirq.H(alice), cirq.CNOT(alice, bob)])\n",
        "\n",
        "# You can visualize the circuit if needed\n",
        "print(circuit)"
      ],
      "metadata": {
        "colab": {
          "base_uri": "https://localhost:8080/"
        },
        "id": "W7j4I_aNt347",
        "outputId": "06390cef-9437-464f-fc5a-c5cfd6372433"
      },
      "execution_count": 21,
      "outputs": [
        {
          "output_type": "stream",
          "name": "stdout",
          "text": [
            "Alice: ───H───@───\n",
            "              │\n",
            "Bob: ─────────X───\n"
          ]
        }
      ]
    },
    {
      "cell_type": "markdown",
      "source": [
        "# Step 2. Alice prepares a special state to teleport to Bob.\n",
        "\n",
        "---\n",
        "\n",
        "\n",
        "Together, prepare the teleportation qubit in the  |1⟩  state."
      ],
      "metadata": {
        "id": "p-b3Hrfjt7SF"
      }
    },
    {
      "cell_type": "code",
      "source": [
        "# PREPARE THE |1> STATE\n",
        "circuit.append([cirq.X(msg)])\n",
        "\n",
        "# You can visualize the circuit if needed\n",
        "print(circuit)"
      ],
      "metadata": {
        "colab": {
          "base_uri": "https://localhost:8080/"
        },
        "id": "zoLI9rdnt_0-",
        "outputId": "ef4119ce-4d4c-4e1b-9895-fdcbf49c3435"
      },
      "execution_count": 22,
      "outputs": [
        {
          "output_type": "stream",
          "name": "stdout",
          "text": [
            "Alice: ─────H───@───\n",
            "                │\n",
            "Bob: ───────────X───\n",
            "\n",
            "Message: ───X───────\n"
          ]
        }
      ]
    },
    {
      "cell_type": "markdown",
      "source": [
        "# Step 3. Alice measures her half of the entangled pair and her special state in the “Entangled basis”.\n",
        "\n",
        "---\n",
        "\n",
        "\n",
        "Together, add the following to the quantum circuit:\n",
        "\n",
        "* A CX gate applied to the message and Alice's qubits.\n",
        "* An H gate applied to the message qubit.\n",
        "* A measurement of the message and Alice's qubits."
      ],
      "metadata": {
        "id": "TN8GWU6LuFfr"
      }
    },
    {
      "cell_type": "code",
      "source": [
        "circuit.append([cirq.CNOT(msg, alice), cirq.H(msg), cirq.measure(msg, alice)])\n",
        "# You can visualize the circuit if needed\n",
        "print(circuit)"
      ],
      "metadata": {
        "colab": {
          "base_uri": "https://localhost:8080/"
        },
        "id": "lLNuMwH_unDv",
        "outputId": "ab725ab8-a944-43ff-f978-046e7fa06cfd"
      },
      "execution_count": 23,
      "outputs": [
        {
          "output_type": "stream",
          "name": "stdout",
          "text": [
            "Alice: ─────H───@───X───────M───\n",
            "                │   │       │\n",
            "Bob: ───────────X───┼───────┼───\n",
            "                    │       │\n",
            "Message: ───X───────@───H───M───\n"
          ]
        }
      ]
    },
    {
      "cell_type": "markdown",
      "source": [
        "# Step 4. Alice sends Bob her measurement results over a classical channel."
      ],
      "metadata": {
        "id": "0SW1N5dkurIe"
      }
    },
    {
      "cell_type": "markdown",
      "source": [
        "# Steps 5. Bob adjusts his half of the Bell pair based on Alice’s measurement results.\n",
        "Together, add the following to the quantum circuit:\n",
        "\n",
        "* An X gate applied to Bob's qubit if the result of measuring Alice's qubit was 1.\n",
        "* A Z gate applied to Bob's qubit if the result of measuring the teleportation qubit was 1.\n",
        "* A measurement of Bob's qubit."
      ],
      "metadata": {
        "id": "MHhEirjuuvDJ"
      }
    },
    {
      "cell_type": "code",
      "source": [
        "circuit.append([cirq.CNOT(alice, bob), cirq.CZ(msg, bob), cirq.measure(bob)])\n",
        "circuit"
      ],
      "metadata": {
        "colab": {
          "base_uri": "https://localhost:8080/",
          "height": 104
        },
        "id": "TyoRtis6u608",
        "outputId": "04db6cb2-b66d-45d1-8f13-71fd3e48ad1b"
      },
      "execution_count": 24,
      "outputs": [
        {
          "output_type": "execute_result",
          "data": {
            "text/plain": [
              "Alice: ─────H───@───X───────M───@───────────\n",
              "                │   │       │   │\n",
              "Bob: ───────────X───┼───────┼───X───@───M───\n",
              "                    │       │       │\n",
              "Message: ───X───────@───H───M───────@───────"
            ],
            "text/html": [
              "<pre style=\"overflow: auto; white-space: pre;\">Alice: ─────H───@───X───────M───@───────────\n",
              "                │   │       │   │\n",
              "Bob: ───────────X───┼───────┼───X───@───M───\n",
              "                    │       │       │\n",
              "Message: ───X───────@───H───M───────@───────</pre>"
            ]
          },
          "metadata": {},
          "execution_count": 24
        }
      ]
    },
    {
      "cell_type": "markdown",
      "source": [
        "# Simulating Quantum Teleportation\n",
        "Together, simulate quantum teleportation:\n",
        "\n",
        "* Simulate our circuit as usual and plot the histogram of results.\n",
        "* Estimate only Bob's state, getting rid of Alice's states, from the measurement results.\n",
        "\n",
        "\n",
        "---\n",
        "\n",
        "\n",
        "\n",
        "In the histogram, when we observe that the third qubit is in the state \"1,\" it confirms that the \"1\" state has indeed been successfully teleported."
      ],
      "metadata": {
        "id": "dBjNn6Czu-sN"
      }
    },
    {
      "cell_type": "code",
      "source": [
        "# Helper function for plotting\n",
        "def binary_labels(num_qubits):\n",
        "    return [bin(x)[2:].zfill(num_qubits) for x in range(2 ** num_qubits)]"
      ],
      "metadata": {
        "id": "R1_IMHCsxQ_6"
      },
      "execution_count": 25,
      "outputs": []
    },
    {
      "cell_type": "code",
      "source": [
        "\"\"\"Simulate the teleportation circuit and get the final state of Bob's qubit.\"\"\"\n",
        "# Get a simulator.\n",
        "sim = cirq.Simulator()\n",
        "\n",
        "# Simulate the teleportation circuit.\n",
        "result = sim.run(circuit, repetitions=100)\n",
        "\n",
        "_ = cirq.plot_state_histogram(result, plt.subplot(), title = 'Teleportation', xlabel = 'Qubit State', ylabel = 'Result count', tick_label=binary_labels(3))\n",
        "plt.show()"
      ],
      "metadata": {
        "colab": {
          "base_uri": "https://localhost:8080/",
          "height": 460
        },
        "id": "OvhQqd5XxUEO",
        "outputId": "24dea9e1-1f79-45e2-b84f-b0ec00fc61ee"
      },
      "execution_count": 26,
      "outputs": [
        {
          "output_type": "display_data",
          "data": {
            "text/plain": [
              "<Figure size 640x480 with 1 Axes>"
            ],
            "image/png": "[encoded data removed]"
          },
          "metadata": {}
        }
      ]
    },
    {
      "cell_type": "markdown",
      "source": [
        "# Teleportation in Full\n",
        "\n",
        "---\n",
        "\n",
        "\n",
        "The full Teleportation protocol implementation and simulation is given in the 2 cells below. Complete the exercises based on these 2 cells."
      ],
      "metadata": {
        "id": "8MwCXVlv2CM4"
      }
    },
    {
      "cell_type": "code",
      "source": [
        "#=========\n",
        "# STEP #1\n",
        "#=========\n",
        "# Instantiate the circuit\n",
        "circuit = cirq.Circuit()\n",
        "\n",
        "# Define three qubits\n",
        "msg = cirq.NamedQubit(\"Message\")\n",
        "alice = cirq.NamedQubit(\"Alice\")\n",
        "bob = cirq.NamedQubit(\"Bob\")\n",
        "\n",
        "# Create an entangled state between Alice and Bob's qubits\n",
        "circuit.append([cirq.H(alice), cirq.CNOT(alice, bob)])\n",
        "\n",
        "\n",
        "#=========\n",
        "# STEP #2\n",
        "#=========\n",
        "# PREPARE THE |1> STATE\n",
        "circuit.append([cirq.X(msg)])\n",
        "\n",
        "\n",
        "#=========\n",
        "# STEP #3\n",
        "#=========\n",
        "circuit.append([cirq.CNOT(msg, alice), cirq.H(msg), cirq.measure(msg, alice)])\n",
        "\n",
        "\n",
        "#=============\n",
        "# STEPS #4 - 5\n",
        "#=============\n",
        "circuit.append([cirq.CNOT(alice, bob), cirq.CZ(msg, bob), cirq.measure(bob)])\n",
        "\n",
        "# You can visualize the circuit if needed\n",
        "print(circuit)"
      ],
      "metadata": {
        "colab": {
          "base_uri": "https://localhost:8080/"
        },
        "id": "HXfl4CFC2njk",
        "outputId": "85a5136c-0bf3-4808-da5f-03abbc1e450a"
      },
      "execution_count": 27,
      "outputs": [
        {
          "output_type": "stream",
          "name": "stdout",
          "text": [
            "Alice: ─────H───@───X───────M───@───────────\n",
            "                │   │       │   │\n",
            "Bob: ───────────X───┼───────┼───X───@───M───\n",
            "                    │       │       │\n",
            "Message: ───X───────@───H───M───────@───────\n"
          ]
        }
      ]
    },
    {
      "cell_type": "code",
      "source": [
        "\"\"\"Simulate the teleportation circuit and get the final state of Bob's qubit.\"\"\"\n",
        "# Get a simulator.\n",
        "sim = cirq.Simulator()\n",
        "\n",
        "# Simulate the teleportation circuit.\n",
        "result = sim.run(circuit, repetitions=100)\n",
        "\n",
        "_ = cirq.plot_state_histogram(result, plt.subplot(), title = 'Teleportation', xlabel = 'Qubit State', ylabel = 'Result count', tick_label=binary_labels(3))\n",
        "plt.show()\n"
      ],
      "metadata": {
        "colab": {
          "base_uri": "https://localhost:8080/",
          "height": 460
        },
        "id": "5sw0Nw6m2ueZ",
        "outputId": "6567daf8-a056-42ae-d55d-586d6d8df8ba"
      },
      "execution_count": 28,
      "outputs": [
        {
          "output_type": "display_data",
          "data": {
            "text/plain": [
              "<Figure size 640x480 with 1 Axes>"
            ],
            "image/png": "[encoded data removed]"
          },
          "metadata": {}
        }
      ]
    },
    {
      "cell_type": "markdown",
      "source": [
        "# Problem #2.1\n",
        "\n",
        "---\n",
        "\n",
        "\n",
        "**Independently**, modify the code above to teleport the  |+⟩  state. How do we make sure that the  |+⟩  state has indeed been teleported?\n",
        "\n",
        "Hint: One way of doing this is by **reversing** the operations that we start with for the message qubit. To create the  |+⟩  state, we apply the Hadamard gate. To go from the  |+⟩  state to the  |0⟩  state, what gate can we use?"
      ],
      "metadata": {
        "id": "9eJ3blnP2403"
      }
    },
    {
      "cell_type": "code",
      "source": [
        "#=========\n",
        "# STEP #1\n",
        "#=========\n",
        "# Instantiate the circuit\n",
        "circuit = cirq.Circuit()\n",
        "\n",
        "# Define three qubits\n",
        "msg = cirq.NamedQubit(\"Message\")\n",
        "alice = cirq.NamedQubit(\"Alice\")\n",
        "bob = cirq.NamedQubit(\"Bob\")\n",
        "\n",
        "# Create an entangled state between Alice and Bob's qubits\n",
        "circuit.append([cirq.H(alice), cirq.CNOT(alice, bob)])\n",
        "\n",
        "\n",
        "#=========\n",
        "# STEP #2\n",
        "#=========\n",
        "# PREPARE THE |+> STATE\n",
        "circuit.append([cirq.H(msg)])\n",
        "\n",
        "\n",
        "#=========\n",
        "# STEP #3\n",
        "#=========\n",
        "circuit.append([cirq.CNOT(msg, alice), cirq.H(msg), cirq.measure(msg, alice)])\n",
        "\n",
        "\n",
        "#=============\n",
        "# STEPS #4 - 5\n",
        "#=============\n",
        "circuit.append([cirq.CNOT(alice, bob), cirq.CZ(msg, bob), cirq.measure(bob)])\n",
        "\n",
        "# You can visualize the circuit if needed\n",
        "print(circuit)"
      ],
      "metadata": {
        "colab": {
          "base_uri": "https://localhost:8080/"
        },
        "id": "8W6xdpar3N11",
        "outputId": "73fd612d-38f7-4890-93de-27600c77f9ea"
      },
      "execution_count": 29,
      "outputs": [
        {
          "output_type": "stream",
          "name": "stdout",
          "text": [
            "Alice: ─────H───@───X───────M───@───────────\n",
            "                │   │       │   │\n",
            "Bob: ───────────X───┼───────┼───X───@───M───\n",
            "                    │       │       │\n",
            "Message: ───H───────@───H───M───────@───────\n"
          ]
        }
      ]
    },
    {
      "cell_type": "code",
      "source": [
        "\"\"\"Simulate the teleportation circuit and get the final state of Bob's qubit.\"\"\"\n",
        "# Get a simulator.\n",
        "sim = cirq.Simulator()\n",
        "\n",
        "# Simulate the teleportation circuit.\n",
        "result = sim.run(circuit, repetitions=100)\n",
        "\n",
        "_ = cirq.plot_state_histogram(result, plt.subplot(), title = 'Teleportation', xlabel = 'Qubit State', ylabel = 'Result count', tick_label=binary_labels(3))\n",
        "plt.show()"
      ],
      "metadata": {
        "colab": {
          "base_uri": "https://localhost:8080/",
          "height": 460
        },
        "id": "N75FvSbb3RJ1",
        "outputId": "51aff7ba-ea32-4e03-ed83-9ca61386ebfd"
      },
      "execution_count": 30,
      "outputs": [
        {
          "output_type": "display_data",
          "data": {
            "text/plain": [
              "<Figure size 640x480 with 1 Axes>"
            ],
            "image/png": "[encoded data removed]"
          },
          "metadata": {}
        }
      ]
    },
    {
      "cell_type": "markdown",
      "source": [
        "# Problem #2.2\n",
        "\n",
        "---\n",
        "\n",
        "\n",
        "Independently, modify the code above to teleport the  |−⟩  state. How do we make sure that the  |−⟩  state has indeed been teleported?"
      ],
      "metadata": {
        "id": "dGB0r6In3U6W"
      }
    },
    {
      "cell_type": "code",
      "source": [
        "#=========\n",
        "# STEP #1\n",
        "#=========\n",
        "# Instantiate the circuit\n",
        "circuit = cirq.Circuit()\n",
        "\n",
        "# Define three qubits\n",
        "msg = cirq.NamedQubit(\"Message\")\n",
        "alice = cirq.NamedQubit(\"Alice\")\n",
        "bob = cirq.NamedQubit(\"Bob\")\n",
        "\n",
        "# Create an entangled state between Alice and Bob's qubits\n",
        "circuit.append([cirq.H(alice), cirq.CNOT(alice, bob)])\n",
        "\n",
        "\n",
        "#=========\n",
        "# STEP #2\n",
        "#=========\n",
        "# PREPARE THE |-> STATE\n",
        "circuit.append([cirq.H(msg)])\n",
        "circuit.append(cirq.Z(msg))\n",
        "\n",
        "\n",
        "#=========\n",
        "# STEP #3\n",
        "#=========\n",
        "circuit.append([cirq.CNOT(msg, alice), cirq.H(msg), cirq.measure(msg, alice)])\n",
        "\n",
        "\n",
        "#=============\n",
        "# STEPS #4 - 5\n",
        "#=============\n",
        "circuit.append([cirq.CNOT(alice, bob), cirq.CZ(msg, bob), cirq.measure(bob)])\n",
        "\n",
        "# You can visualize the circuit if needed\n",
        "print(circuit)"
      ],
      "metadata": {
        "colab": {
          "base_uri": "https://localhost:8080/"
        },
        "id": "hIIle98u3l4-",
        "outputId": "4bc3cd13-3cb0-48e6-9f87-4943be9b09c7"
      },
      "execution_count": 31,
      "outputs": [
        {
          "output_type": "stream",
          "name": "stdout",
          "text": [
            "Alice: ─────H───@───X───────M───@───────────\n",
            "                │   │       │   │\n",
            "Bob: ───────────X───┼───────┼───X───@───M───\n",
            "                    │       │       │\n",
            "Message: ───H───Z───@───H───M───────@───────\n"
          ]
        }
      ]
    },
    {
      "cell_type": "code",
      "source": [
        "\"\"\"Simulate the teleportation circuit and get the final state of Bob's qubit.\"\"\"\n",
        "# Get a simulator.\n",
        "sim = cirq.Simulator()\n",
        "\n",
        "# Simulate the teleportation circuit.\n",
        "result = sim.run(circuit, repetitions=100)\n",
        "\n",
        "_ = cirq.plot_state_histogram(result, plt.subplot(), title = 'Teleportation', xlabel = 'Qubit State', ylabel = 'Result count', tick_label=binary_labels(3))\n",
        "plt.show()"
      ],
      "metadata": {
        "colab": {
          "base_uri": "https://localhost:8080/",
          "height": 460
        },
        "id": "TBfviPJE3rT2",
        "outputId": "ee2976fb-7aa5-457a-917e-88b9c7df0dda"
      },
      "execution_count": 32,
      "outputs": [
        {
          "output_type": "display_data",
          "data": {
            "text/plain": [
              "<Figure size 640x480 with 1 Axes>"
            ],
            "image/png": "[encoded data removed]"
          },
          "metadata": {}
        }
      ]
    },
    {
      "cell_type": "markdown",
      "source": [
        "# Problem #2.3\n",
        "\n",
        "---\n",
        "\n",
        "\n",
        "Independently, change the order of Bob's X and Z gates in Step #5 and rerun the protocol. What happens to the results? Does the order of these gates matter?"
      ],
      "metadata": {
        "id": "pQoMhK2239m9"
      }
    },
    {
      "cell_type": "code",
      "source": [
        "#=========\n",
        "# STEP #1\n",
        "#=========\n",
        "# Instantiate the circuit\n",
        "circuit = cirq.Circuit()\n",
        "\n",
        "# Define three qubits\n",
        "msg = cirq.NamedQubit(\"Message\")\n",
        "alice = cirq.NamedQubit(\"Alice\")\n",
        "bob = cirq.NamedQubit(\"Bob\")\n",
        "\n",
        "# Create an entangled state between Alice and Bob's qubits\n",
        "circuit.append([cirq.H(alice), cirq.CNOT(alice, bob)])\n",
        "\n",
        "\n",
        "#=========\n",
        "# STEP #2\n",
        "#=========\n",
        "# PREPARE THE |-> STATE\n",
        "circuit.append([cirq.H(msg)])\n",
        "circuit.append(cirq.Z(msg))\n",
        "\n",
        "\n",
        "#=========\n",
        "# STEP #3\n",
        "#=========\n",
        "circuit.append([cirq.CNOT(msg, alice), cirq.H(msg), cirq.measure(msg, alice)])\n",
        "\n",
        "\n",
        "#=============\n",
        "# STEPS #4 - 5\n",
        "#=============\n",
        "circuit.append([cirq.CZ(msg, bob), cirq.CNOT(alice, bob), cirq.measure(bob)])\n",
        "\n",
        "# You can visualize the circuit if needed\n",
        "print(circuit)"
      ],
      "metadata": {
        "colab": {
          "base_uri": "https://localhost:8080/"
        },
        "id": "DTM-0UvX4CyF",
        "outputId": "a05595f1-039e-4290-d61b-e7feb5bc9fc0"
      },
      "execution_count": 33,
      "outputs": [
        {
          "output_type": "stream",
          "name": "stdout",
          "text": [
            "Alice: ─────H───@───X───────M───────@───────\n",
            "                │   │       │       │\n",
            "Bob: ───────────X───┼───────┼───@───X───M───\n",
            "                    │       │   │\n",
            "Message: ───H───Z───@───H───M───@───────────\n"
          ]
        }
      ]
    },
    {
      "cell_type": "code",
      "source": [
        "\"\"\"Simulate the teleportation circuit and get the final state of Bob's qubit.\"\"\"\n",
        "# Get a simulator.\n",
        "sim = cirq.Simulator()\n",
        "\n",
        "# Simulate the teleportation circuit.\n",
        "result = sim.run(circuit, repetitions=100)\n",
        "\n",
        "_ = cirq.plot_state_histogram(result, plt.subplot(), title = 'Teleportation', xlabel = 'Qubit State', ylabel = 'Result count', tick_label=binary_labels(3))\n",
        "plt.show()"
      ],
      "metadata": {
        "colab": {
          "base_uri": "https://localhost:8080/",
          "height": 460
        },
        "id": "xCM8axZ04FkN",
        "outputId": "4d0a8ea5-0341-4dc0-9485-579b4d5858c2"
      },
      "execution_count": 34,
      "outputs": [
        {
          "output_type": "display_data",
          "data": {
            "text/plain": [
              "<Figure size 640x480 with 1 Axes>"
            ],
            "image/png": "[encoded data removed]"
          },
          "metadata": {}
        }
      ]
    }
  ]
}