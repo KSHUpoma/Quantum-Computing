{
  "nbformat": 4,
  "nbformat_minor": 0,
  "metadata": {
    "colab": {
      "provenance": [],
      "toc_visible": true
    },
    "kernelspec": {
      "name": "python3",
      "display_name": "Python 3"
    },
    "language_info": {
      "name": "python"
    }
  },
  "cells": [
    {
      "cell_type": "markdown",
      "source": [
        "# Before starting, run the code below to import all necessary functions and libraries."
      ],
      "metadata": {
        "id": "aeYoCrg10RZN"
      }
    },
    {
      "cell_type": "code",
      "execution_count": null,
      "metadata": {
        "colab": {
          "base_uri": "https://localhost:8080/"
        },
        "id": "yD-AHMeI0K6e",
        "outputId": "e5d4941d-cd36-44ba-95e9-0ce837d7ddb8"
      },
      "outputs": [
        {
          "output_type": "stream",
          "name": "stdout",
          "text": [
            "\u001b[?25l     \u001b[90m━━━━━━━━━━━━━━━━━━━━━━━━━━━━━━━━━━━━━━━━\u001b[0m \u001b[32m0.0/45.6 kB\u001b[0m \u001b[31m?\u001b[0m eta \u001b[36m-:--:--\u001b[0m\r\u001b[2K     \u001b[90m━━━━━━━━━━━━━━━━━━━━━━━━━━━━━━━━━━━━━━━━\u001b[0m \u001b[32m45.6/45.6 kB\u001b[0m \u001b[31m2.6 MB/s\u001b[0m eta \u001b[36m0:00:00\u001b[0m\n",
            "\u001b[?25h  Preparing metadata (setup.py) ... \u001b[?25l\u001b[?25hdone\n",
            "\u001b[2K   \u001b[90m━━━━━━━━━━━━━━━━━━━━━━━━━━━━━━━━━━━━━━━━\u001b[0m \u001b[32m1.9/1.9 MB\u001b[0m \u001b[31m35.2 MB/s\u001b[0m eta \u001b[36m0:00:00\u001b[0m\n",
            "\u001b[2K   \u001b[90m━━━━━━━━━━━━━━━━━━━━━━━━━━━━━━━━━━━━━━━━\u001b[0m \u001b[32m532.7/532.7 kB\u001b[0m \u001b[31m25.6 MB/s\u001b[0m eta \u001b[36m0:00:00\u001b[0m\n",
            "\u001b[2K   \u001b[90m━━━━━━━━━━━━━━━━━━━━━━━━━━━━━━━━━━━━━━━━\u001b[0m \u001b[32m60.5/60.5 kB\u001b[0m \u001b[31m2.7 MB/s\u001b[0m eta \u001b[36m0:00:00\u001b[0m\n",
            "\u001b[2K   \u001b[90m━━━━━━━━━━━━━━━━━━━━━━━━━━━━━━━━━━━━━━━━\u001b[0m \u001b[32m69.3/69.3 kB\u001b[0m \u001b[31m3.9 MB/s\u001b[0m eta \u001b[36m0:00:00\u001b[0m\n",
            "\u001b[2K   \u001b[90m━━━━━━━━━━━━━━━━━━━━━━━━━━━━━━━━━━━━━━━━\u001b[0m \u001b[32m596.5/596.5 kB\u001b[0m \u001b[31m22.7 MB/s\u001b[0m eta \u001b[36m0:00:00\u001b[0m\n",
            "\u001b[2K   \u001b[90m━━━━━━━━━━━━━━━━━━━━━━━━━━━━━━━━━━━━━━━━\u001b[0m \u001b[32m202.9/202.9 kB\u001b[0m \u001b[31m16.0 MB/s\u001b[0m eta \u001b[36m0:00:00\u001b[0m\n",
            "\u001b[2K   \u001b[90m━━━━━━━━━━━━━━━━━━━━━━━━━━━━━━━━━━━━━━━━\u001b[0m \u001b[32m53.0/53.0 kB\u001b[0m \u001b[31m3.4 MB/s\u001b[0m eta \u001b[36m0:00:00\u001b[0m\n",
            "\u001b[2K   \u001b[90m━━━━━━━━━━━━━━━━━━━━━━━━━━━━━━━━━━━━━━━━\u001b[0m \u001b[32m6.5/6.5 MB\u001b[0m \u001b[31m52.1 MB/s\u001b[0m eta \u001b[36m0:00:00\u001b[0m\n",
            "\u001b[2K   \u001b[90m━━━━━━━━━━━━━━━━━━━━━━━━━━━━━━━━━━━━━━━━\u001b[0m \u001b[32m2.2/2.2 MB\u001b[0m \u001b[31m48.9 MB/s\u001b[0m eta \u001b[36m0:00:00\u001b[0m\n",
            "\u001b[2K   \u001b[90m━━━━━━━━━━━━━━━━━━━━━━━━━━━━━━━━━━━━━━━━\u001b[0m \u001b[32m2.7/2.7 MB\u001b[0m \u001b[31m54.8 MB/s\u001b[0m eta \u001b[36m0:00:00\u001b[0m\n",
            "\u001b[2K   \u001b[90m━━━━━━━━━━━━━━━━━━━━━━━━━━━━━━━━━━━━━━━━\u001b[0m \u001b[32m1.7/1.7 MB\u001b[0m \u001b[31m45.4 MB/s\u001b[0m eta \u001b[36m0:00:00\u001b[0m\n",
            "\u001b[2K   \u001b[90m━━━━━━━━━━━━━━━━━━━━━━━━━━━━━━━━━━━━━━━━\u001b[0m \u001b[32m117.7/117.7 kB\u001b[0m \u001b[31m8.0 MB/s\u001b[0m eta \u001b[36m0:00:00\u001b[0m\n",
            "\u001b[2K   \u001b[90m━━━━━━━━━━━━━━━━━━━━━━━━━━━━━━━━━━━━━━━━\u001b[0m \u001b[32m739.1/739.1 kB\u001b[0m \u001b[31m33.6 MB/s\u001b[0m eta \u001b[36m0:00:00\u001b[0m\n",
            "\u001b[?25h  Building wheel for rpcq (setup.py) ... \u001b[?25l\u001b[?25hdone\n",
            "Libraries imported successfully!\n"
          ]
        }
      ],
      "source": [
        "# @title\n",
        "!pip install cirq --quiet\n",
        "import cirq\n",
        "import cirq_web\n",
        "import numpy as np\n",
        "import cirq_web.bloch_sphere as bloch_sphere\n",
        "import matplotlib.pyplot as plt\n",
        "def binary_labels(num_qubits):\n",
        "    return [bin(x)[2:].zfill(num_qubits) for x in range(2 ** num_qubits)]\n",
        "print(\"Libraries imported successfully!\")"
      ]
    },
    {
      "cell_type": "markdown",
      "source": [
        "# New Section\n",
        "\n",
        "---\n",
        "Part 1: Creating Multi-Qubit Circuits\n",
        "\n",
        "---\n",
        "\n",
        "\n"
      ],
      "metadata": {
        "id": "O2f0JHUa0cRx"
      }
    },
    {
      "cell_type": "markdown",
      "source": [
        "# Problem #1.1\n",
        "Together, create 3 qubits using the range() method. Output your qubits."
      ],
      "metadata": {
        "id": "JJ_vecT_0jyT"
      }
    },
    {
      "cell_type": "code",
      "source": [
        "my_qubits = cirq.NamedQubit.range( 3, prefix = \"q\")\n",
        "my_qubits"
      ],
      "metadata": {
        "colab": {
          "base_uri": "https://localhost:8080/"
        },
        "id": "5ziWx_OG0sqb",
        "outputId": "10534139-2055-4666-ac13-5d63659a2c98"
      },
      "execution_count": null,
      "outputs": [
        {
          "output_type": "execute_result",
          "data": {
            "text/plain": [
              "[cirq.NamedQubit('q0'), cirq.NamedQubit('q1'), cirq.NamedQubit('q2')]"
            ]
          },
          "metadata": {},
          "execution_count": 2
        }
      ]
    },
    {
      "cell_type": "markdown",
      "source": [
        "# Problem #1.2\n",
        "Together, add a fourth qubit to the list below. Output your new list."
      ],
      "metadata": {
        "id": "3j8Q0J3306Tl"
      }
    },
    {
      "cell_type": "code",
      "source": [
        "my_qubits = cirq.NamedQubit.range( 3, prefix = \"q\")\n",
        "my_qubits"
      ],
      "metadata": {
        "colab": {
          "base_uri": "https://localhost:8080/"
        },
        "id": "lGSto0cL2ZzN",
        "outputId": "179f6d26-5508-4796-aa17-20cc021f540b"
      },
      "execution_count": null,
      "outputs": [
        {
          "output_type": "execute_result",
          "data": {
            "text/plain": [
              "[cirq.NamedQubit('q0'), cirq.NamedQubit('q1'), cirq.NamedQubit('q2')]"
            ]
          },
          "metadata": {},
          "execution_count": 3
        }
      ]
    },
    {
      "cell_type": "markdown",
      "source": [
        "# Problem #1.2\n",
        "Together, add a fourth qubit to the list below. Output your new list."
      ],
      "metadata": {
        "id": "nRp0yT2D2d00"
      }
    },
    {
      "cell_type": "code",
      "source": [
        "my_qubits = cirq.NamedQubit.range( 3, prefix = \"q\")\n",
        "my_qubits.append(cirq.NamedQubit(\"q3\"))\n",
        "my_qubits"
      ],
      "metadata": {
        "colab": {
          "base_uri": "https://localhost:8080/"
        },
        "id": "eE-KVroC21GG",
        "outputId": "a5f6056d-da63-47a7-fee9-c04e30b929e8"
      },
      "execution_count": null,
      "outputs": [
        {
          "output_type": "execute_result",
          "data": {
            "text/plain": [
              "[cirq.NamedQubit('q0'),\n",
              " cirq.NamedQubit('q1'),\n",
              " cirq.NamedQubit('q2'),\n",
              " cirq.NamedQubit('q3')]"
            ]
          },
          "metadata": {},
          "execution_count": 4
        }
      ]
    },
    {
      "cell_type": "markdown",
      "source": [
        "# Problem #1.3\n",
        "Together, using the range() method, create 4 qubits."
      ],
      "metadata": {
        "id": "Z5VpeyFp25RD"
      }
    },
    {
      "cell_type": "code",
      "source": [
        "my_qubits = cirq.NamedQubit.range( 4, prefix = \"q\")"
      ],
      "metadata": {
        "id": "uWx9YZxx3Erv"
      },
      "execution_count": null,
      "outputs": []
    },
    {
      "cell_type": "markdown",
      "source": [
        "# Problem #1.4\n",
        "Together, create 100 qubits."
      ],
      "metadata": {
        "id": "EImCG_wJ3UDE"
      }
    },
    {
      "cell_type": "code",
      "source": [
        "my_qubits = cirq.NamedQubit.range( 100, prefix = \"q\")"
      ],
      "metadata": {
        "id": "GlRjKJu83Xxt"
      },
      "execution_count": null,
      "outputs": []
    },
    {
      "cell_type": "markdown",
      "source": [
        "# Problem #1.5\n",
        "Together, create 3 qubits. Add a measurement to the first qubit. Output your circuit."
      ],
      "metadata": {
        "id": "fLmHRsfr3b-2"
      }
    },
    {
      "cell_type": "code",
      "source": [
        "my_qubits = cirq.NamedQubit.range( 3, prefix = \"q\")\n",
        "my_circuit = cirq.Circuit()\n",
        "my_circuit.append(cirq.measure(cirq.NamedQubit(\"q0\")))\n",
        "my_circuit"
      ],
      "metadata": {
        "colab": {
          "base_uri": "https://localhost:8080/",
          "height": 34
        },
        "id": "TiQG7mFY4avg",
        "outputId": "68c36390-a8d5-49f1-c29f-3b8bedd1a2f6"
      },
      "execution_count": null,
      "outputs": [
        {
          "output_type": "execute_result",
          "data": {
            "text/plain": [
              "q0: ───M───"
            ],
            "text/html": [
              "<pre style=\"overflow: auto; white-space: pre;\">q0: ───M───</pre>"
            ]
          },
          "metadata": {},
          "execution_count": 8
        }
      ]
    },
    {
      "cell_type": "markdown",
      "source": [
        "# Problem #1.6\n",
        "\n",
        "---\n",
        "\n",
        "\n",
        "Together, create 5 qubits. Add a measurement to each qubit. Output your circuit."
      ],
      "metadata": {
        "id": "bUMtsc8I4gvs"
      }
    },
    {
      "cell_type": "code",
      "source": [
        "my_qubits = cirq.NamedQubit.range( 5, prefix = \"q\")\n",
        "my_circuit = cirq.Circuit()\n",
        "my_circuit.append(cirq.measure(my_qubits))\n",
        "my_circuit"
      ],
      "metadata": {
        "colab": {
          "base_uri": "https://localhost:8080/",
          "height": 173
        },
        "id": "O58RnAfE4lDb",
        "outputId": "402a99e4-dfcc-46cd-a90b-a6b3440f5a15"
      },
      "execution_count": null,
      "outputs": [
        {
          "output_type": "execute_result",
          "data": {
            "text/plain": [
              "q0: ───M───\n",
              "       │\n",
              "q1: ───M───\n",
              "       │\n",
              "q2: ───M───\n",
              "       │\n",
              "q3: ───M───\n",
              "       │\n",
              "q4: ───M───"
            ],
            "text/html": [
              "<pre style=\"overflow: auto; white-space: pre;\">q0: ───M───\n",
              "       │\n",
              "q1: ───M───\n",
              "       │\n",
              "q2: ───M───\n",
              "       │\n",
              "q3: ───M───\n",
              "       │\n",
              "q4: ───M───</pre>"
            ]
          },
          "metadata": {},
          "execution_count": 9
        }
      ]
    },
    {
      "cell_type": "markdown",
      "source": [
        "# Problem #1.7\n",
        "Independently, create 5 qubits. Add an H gate to the the last qubit. Output your circuit."
      ],
      "metadata": {
        "id": "JSECEd6a5dEC"
      }
    },
    {
      "cell_type": "code",
      "source": [
        "my_qubits = cirq.NamedQubit.range( 5, prefix = \"q\")\n",
        "my_circuit = cirq.Circuit()\n",
        "my_circuit.append(cirq.H(cirq.NamedQubit(\"q4\")))\n",
        "my_circuit"
      ],
      "metadata": {
        "colab": {
          "base_uri": "https://localhost:8080/",
          "height": 34
        },
        "id": "C4VkeVeR5g3W",
        "outputId": "0a8ac4e7-16b1-4797-a482-4c257970b124"
      },
      "execution_count": null,
      "outputs": [
        {
          "output_type": "execute_result",
          "data": {
            "text/plain": [
              "q4: ───H───"
            ],
            "text/html": [
              "<pre style=\"overflow: auto; white-space: pre;\">q4: ───H───</pre>"
            ]
          },
          "metadata": {},
          "execution_count": 10
        }
      ]
    },
    {
      "cell_type": "markdown",
      "source": [
        "# Problem #1.8\n",
        "\n",
        "---\n",
        "\n",
        "\n",
        "Independently, create 5 qubits. Add an X gate to each of them. Output your circuit."
      ],
      "metadata": {
        "id": "TUx1K03T5k59"
      }
    },
    {
      "cell_type": "code",
      "source": [
        "my_qubits = cirq.NamedQubit.range( 5, prefix = \"q\")\n",
        "my_circuit = cirq.Circuit()\n",
        "my_circuit.append(cirq.H.on_each(my_qubits))\n",
        "my_circuit"
      ],
      "metadata": {
        "colab": {
          "base_uri": "https://localhost:8080/",
          "height": 173
        },
        "id": "AXs8VEH85p8u",
        "outputId": "a7da782a-0798-47db-8bb3-58cc45c539f9"
      },
      "execution_count": null,
      "outputs": [
        {
          "output_type": "execute_result",
          "data": {
            "text/plain": [
              "q0: ───H───\n",
              "\n",
              "q1: ───H───\n",
              "\n",
              "q2: ───H───\n",
              "\n",
              "q3: ───H───\n",
              "\n",
              "q4: ───H───"
            ],
            "text/html": [
              "<pre style=\"overflow: auto; white-space: pre;\">q0: ───H───\n",
              "\n",
              "q1: ───H───\n",
              "\n",
              "q2: ───H───\n",
              "\n",
              "q3: ───H───\n",
              "\n",
              "q4: ───H───</pre>"
            ]
          },
          "metadata": {},
          "execution_count": 11
        }
      ]
    },
    {
      "cell_type": "markdown",
      "source": [
        "# Problem #1.9\n",
        "Independently, create 3 qubits. Add an X gate to the first, a Z gate to the second, and an H gate to the last. Add a measurement to each of them. Output your circuit."
      ],
      "metadata": {
        "id": "hU1is1sE5v_x"
      }
    },
    {
      "cell_type": "code",
      "source": [
        "my_qubits = cirq.NamedQubit.range( 3, prefix = \"q\")\n",
        "my_circuit = cirq.Circuit()\n",
        "my_circuit.append(cirq.X(cirq.NamedQubit(\"q0\")))\n",
        "my_circuit.append(cirq.Z(cirq.NamedQubit(\"q1\")))\n",
        "my_circuit.append(cirq.H(cirq.NamedQubit(\"q2\")))\n",
        "my_circuit.append(cirq.measure(my_qubits))\n",
        "my_circuit"
      ],
      "metadata": {
        "colab": {
          "base_uri": "https://localhost:8080/",
          "height": 104
        },
        "id": "9niX6KtZ50uS",
        "outputId": "9d02bfe3-a82f-4d4a-c865-baa2bf0e1e2c"
      },
      "execution_count": null,
      "outputs": [
        {
          "output_type": "execute_result",
          "data": {
            "text/plain": [
              "q0: ───X───M───\n",
              "           │\n",
              "q1: ───Z───M───\n",
              "           │\n",
              "q2: ───H───M───"
            ],
            "text/html": [
              "<pre style=\"overflow: auto; white-space: pre;\">q0: ───X───M───\n",
              "           │\n",
              "q1: ───Z───M───\n",
              "           │\n",
              "q2: ───H───M───</pre>"
            ]
          },
          "metadata": {},
          "execution_count": 12
        }
      ]
    },
    {
      "cell_type": "markdown",
      "source": [
        "# Problem #1.10\n",
        "Independently, create 5 qubits. Add an H gate to each of them. Add a measurement to the first of them. Add an X gate to the second qubit. Add a Z gate to the last. Add a measurement to the last two qubits."
      ],
      "metadata": {
        "id": "Ix9fPnP46Emj"
      }
    },
    {
      "cell_type": "code",
      "source": [
        "my_qubits = cirq.NamedQubit.range( 3, prefix = \"q\")\n",
        "my_circuit = cirq.Circuit()\n",
        "my_circuit.append(cirq.H.on_each(my_qubits))\n",
        "my_circuit.append(cirq.measure(cirq.NamedQubit(\"q0\")))\n",
        "my_circuit.append(cirq.X(cirq.NamedQubit(\"q1\")))\n",
        "my_circuit.append(cirq.Z(cirq.NamedQubit(\"q2\")))\n",
        "my_circuit.append(cirq.measure(cirq.NamedQubit(\"q1\")))\n",
        "my_circuit.append(cirq.measure(cirq.NamedQubit(\"q2\")))\n",
        "my_circuit"
      ],
      "metadata": {
        "colab": {
          "base_uri": "https://localhost:8080/",
          "height": 104
        },
        "id": "f7DE1VyI6QZl",
        "outputId": "302d1fe5-adf5-4898-fd9c-c13f531b88aa"
      },
      "execution_count": null,
      "outputs": [
        {
          "output_type": "execute_result",
          "data": {
            "text/plain": [
              "q0: ───H───M───────\n",
              "\n",
              "q1: ───H───X───M───\n",
              "\n",
              "q2: ───H───Z───M───"
            ],
            "text/html": [
              "<pre style=\"overflow: auto; white-space: pre;\">q0: ───H───M───────\n",
              "\n",
              "q1: ───H───X───M───\n",
              "\n",
              "q2: ───H───Z───M───</pre>"
            ]
          },
          "metadata": {},
          "execution_count": 13
        }
      ]
    },
    {
      "cell_type": "markdown",
      "source": [
        "# Part 2: Creating Entanglement with CNOT"
      ],
      "metadata": {
        "id": "nr2Q3qUU6UYg"
      }
    },
    {
      "cell_type": "markdown",
      "source": [
        "#\n",
        "Problem #2.1\n",
        "Together, create two qubits. Create a circuit and add a CNOT gate such the the first qubit is the control and the second is the target. Output your circuit. Print out the ket representation of your circuit's final state."
      ],
      "metadata": {
        "id": "bYcG5K046YSn"
      }
    },
    {
      "cell_type": "code",
      "source": [
        "my_qubits = cirq.NamedQubit.range( 2, prefix = \"q\")\n",
        "my_circuit = cirq.Circuit()\n",
        "my_circuit.append(cirq.CNOT(cirq.NamedQubit(\"q0\"), cirq.NamedQubit(\"q1\")))\n",
        "my_circuit"
      ],
      "metadata": {
        "colab": {
          "base_uri": "https://localhost:8080/",
          "height": 69
        },
        "id": "vtRITeBT6b4j",
        "outputId": "2c0b3087-4be4-4c22-9afe-77d7327e550d"
      },
      "execution_count": null,
      "outputs": [
        {
          "output_type": "execute_result",
          "data": {
            "text/plain": [
              "q0: ───@───\n",
              "       │\n",
              "q1: ───X───"
            ],
            "text/html": [
              "<pre style=\"overflow: auto; white-space: pre;\">q0: ───@───\n",
              "       │\n",
              "q1: ───X───</pre>"
            ]
          },
          "metadata": {},
          "execution_count": 14
        }
      ]
    },
    {
      "cell_type": "code",
      "source": [
        "state_vector = cirq.final_state_vector(my_circuit)\n",
        "ket = cirq.dirac_notation( state_vector=state_vector )\n",
        "print(ket)"
      ],
      "metadata": {
        "colab": {
          "base_uri": "https://localhost:8080/"
        },
        "id": "O9IGFai26f2U",
        "outputId": "5e304c49-3204-4e17-8725-11af4a6939b4"
      },
      "execution_count": null,
      "outputs": [
        {
          "output_type": "stream",
          "name": "stdout",
          "text": [
            "|00⟩\n"
          ]
        }
      ]
    },
    {
      "cell_type": "markdown",
      "source": [
        "# Problem #2.2\n",
        "\n",
        "---\n",
        "\n",
        "\n",
        "Together, create two qubits. Create a circuit and add an H gate to the first qubit. Add a CNOT gate such the the first qubit is the control and the second is the target. Output your circuit. Print out the ket representation of your circuit's final state."
      ],
      "metadata": {
        "id": "64ckeXPy6obj"
      }
    },
    {
      "cell_type": "code",
      "source": [
        "my_qubits = cirq.NamedQubit.range( 2, prefix = \"q\")\n",
        "my_circuit = cirq.Circuit()\n",
        "my_circuit.append(cirq.H(cirq.NamedQubit(\"q0\")))\n",
        "my_circuit.append(cirq.CNOT(cirq.NamedQubit(\"q0\"), cirq.NamedQubit(\"q1\")))\n",
        "my_circuit"
      ],
      "metadata": {
        "colab": {
          "base_uri": "https://localhost:8080/",
          "height": 69
        },
        "id": "asT2gXmY6s3E",
        "outputId": "26d58dd0-d73f-467d-f866-282575b4c954"
      },
      "execution_count": null,
      "outputs": [
        {
          "output_type": "execute_result",
          "data": {
            "text/plain": [
              "q0: ───H───@───\n",
              "           │\n",
              "q1: ───────X───"
            ],
            "text/html": [
              "<pre style=\"overflow: auto; white-space: pre;\">q0: ───H───@───\n",
              "           │\n",
              "q1: ───────X───</pre>"
            ]
          },
          "metadata": {},
          "execution_count": 16
        }
      ]
    },
    {
      "cell_type": "code",
      "source": [
        "state_vector = cirq.final_state_vector(my_circuit)\n",
        "ket = cirq.dirac_notation( state_vector=state_vector )\n",
        "print(ket)"
      ],
      "metadata": {
        "colab": {
          "base_uri": "https://localhost:8080/"
        },
        "id": "re3SQzbg7Esc",
        "outputId": "5aab1ed8-5eb2-4323-bd0a-1c3d175e6db3"
      },
      "execution_count": null,
      "outputs": [
        {
          "output_type": "stream",
          "name": "stdout",
          "text": [
            "0.71|00⟩ + 0.71|11⟩\n"
          ]
        }
      ]
    },
    {
      "cell_type": "markdown",
      "source": [
        "# Problem #2.3\n",
        "\n",
        "---\n",
        "\n",
        "\n",
        "Independently, Modify the circuit in Problem 2.2 to create a new entangled state by adding an initial X gate to one of the qubits. Output your circuit. Print out the ket representation of your circuit's final state."
      ],
      "metadata": {
        "id": "_o_ra_A67UpX"
      }
    },
    {
      "cell_type": "code",
      "source": [
        "my_qubits = cirq.NamedQubit.range( 2, prefix = \"q\")\n",
        "my_circuit = cirq.Circuit()\n",
        "my_circuit.append(cirq.X(cirq.NamedQubit(\"q0\")))\n",
        "my_circuit.append(cirq.H(cirq.NamedQubit(\"q0\")))\n",
        "my_circuit.append(cirq.CNOT(cirq.NamedQubit(\"q0\"), cirq.NamedQubit(\"q1\")))\n",
        "my_circuit"
      ],
      "metadata": {
        "colab": {
          "base_uri": "https://localhost:8080/",
          "height": 69
        },
        "id": "oSMr-GUj7W5t",
        "outputId": "24a88e2e-a60b-48bb-b657-c3b6a2c3d927"
      },
      "execution_count": null,
      "outputs": [
        {
          "output_type": "execute_result",
          "data": {
            "text/plain": [
              "q0: ───X───H───@───\n",
              "               │\n",
              "q1: ───────────X───"
            ],
            "text/html": [
              "<pre style=\"overflow: auto; white-space: pre;\">q0: ───X───H───@───\n",
              "               │\n",
              "q1: ───────────X───</pre>"
            ]
          },
          "metadata": {},
          "execution_count": 18
        }
      ]
    },
    {
      "cell_type": "code",
      "source": [
        "state_vector = cirq.final_state_vector(my_circuit)\n",
        "ket = cirq.dirac_notation( state_vector=state_vector )\n",
        "print(ket)"
      ],
      "metadata": {
        "colab": {
          "base_uri": "https://localhost:8080/"
        },
        "id": "j5X5ILr17bc7",
        "outputId": "51dfde40-0533-4f70-813a-aa0e6410d9c0"
      },
      "execution_count": null,
      "outputs": [
        {
          "output_type": "stream",
          "name": "stdout",
          "text": [
            "0.71|00⟩ - 0.71|11⟩\n"
          ]
        }
      ]
    },
    {
      "cell_type": "markdown",
      "source": [
        "# Problem #2.4\n",
        "\n",
        "---\n",
        "\n",
        "\n",
        "Independently, add measurements to each of your qubits from your circuit in Problem #2.2. Simulate the results of your circuit. Output the results."
      ],
      "metadata": {
        "id": "IXfOjTFG7iUm"
      }
    },
    {
      "cell_type": "code",
      "source": [
        "my_circuit.append(cirq.measure(my_qubits))\n",
        "sim = cirq.Simulator()\n",
        "result = sim.run(my_circuit)\n",
        "result"
      ],
      "metadata": {
        "colab": {
          "base_uri": "https://localhost:8080/"
        },
        "id": "aIEzYdok7lJp",
        "outputId": "29bdcd09-152a-44ba-abf9-226021d92cb5"
      },
      "execution_count": null,
      "outputs": [
        {
          "output_type": "execute_result",
          "data": {
            "text/plain": [
              "q0,q1=0, 0"
            ]
          },
          "metadata": {},
          "execution_count": 20
        }
      ]
    },
    {
      "cell_type": "markdown",
      "source": [
        "# Problem #2.5\n",
        "Independently, simulate the results from the circuit in Problem #2.3 10 times."
      ],
      "metadata": {
        "id": "K6xWLvBW7zBZ"
      }
    },
    {
      "cell_type": "code",
      "source": [
        "sim = cirq.Simulator()\n",
        "result = sim.run(my_circuit, repetitions=10)\n",
        "result"
      ],
      "metadata": {
        "colab": {
          "base_uri": "https://localhost:8080/"
        },
        "id": "n1IHUjm2709k",
        "outputId": "bef6bed3-336c-44c1-e8a2-ddb9617e2a06"
      },
      "execution_count": null,
      "outputs": [
        {
          "output_type": "execute_result",
          "data": {
            "text/plain": [
              "q0,q1=0010001000, 0010001000"
            ]
          },
          "metadata": {},
          "execution_count": 21
        }
      ]
    },
    {
      "cell_type": "markdown",
      "source": [
        "# Problem #2.6\n",
        "\n",
        "---\n",
        "\n",
        "\n",
        "Independently, create two qubits. Create a circuit and add an X gate to the first qubit. Add a CNOT gate such the the first qubit is the control and the second is the target. Output your circuit. Print out the ket representation of your circuit's final state."
      ],
      "metadata": {
        "id": "XZ8r7ZAX8okg"
      }
    },
    {
      "cell_type": "code",
      "source": [
        "my_qubits = cirq.NamedQubit.range( 2, prefix = \"q\")\n",
        "my_circuit = cirq.Circuit()\n",
        "my_circuit.append(cirq.X(cirq.NamedQubit(\"q0\")))\n",
        "my_circuit.append(cirq.CNOT(cirq.NamedQubit(\"q0\"), cirq.NamedQubit(\"q1\")))\n",
        "my_circuit"
      ],
      "metadata": {
        "colab": {
          "base_uri": "https://localhost:8080/",
          "height": 69
        },
        "id": "fmHXnpVM80El",
        "outputId": "87dd2e2c-9610-4e5d-b2d3-ddc2c35bf954"
      },
      "execution_count": null,
      "outputs": [
        {
          "output_type": "execute_result",
          "data": {
            "text/plain": [
              "q0: ───X───@───\n",
              "           │\n",
              "q1: ───────X───"
            ],
            "text/html": [
              "<pre style=\"overflow: auto; white-space: pre;\">q0: ───X───@───\n",
              "           │\n",
              "q1: ───────X───</pre>"
            ]
          },
          "metadata": {},
          "execution_count": 22
        }
      ]
    },
    {
      "cell_type": "code",
      "source": [
        "state_vector = cirq.final_state_vector(my_circuit)\n",
        "ket = cirq.dirac_notation( state_vector=state_vector )\n",
        "print(ket)"
      ],
      "metadata": {
        "colab": {
          "base_uri": "https://localhost:8080/"
        },
        "id": "LiE_6Yix82mo",
        "outputId": "c4bad656-c28c-40ed-b3bf-4645fe186d29"
      },
      "execution_count": null,
      "outputs": [
        {
          "output_type": "stream",
          "name": "stdout",
          "text": [
            "|11⟩\n"
          ]
        }
      ]
    },
    {
      "cell_type": "markdown",
      "source": [
        "# Part 3: Working with Histograms"
      ],
      "metadata": {
        "id": "Js8XSXYV886v"
      }
    },
    {
      "cell_type": "markdown",
      "source": [
        "# Problem #3.1\n",
        "\n",
        "---\n",
        "\n",
        "\n",
        "Together, create 3 qubits. Append those qubits to a circuit with a measurement. Simulate the results of your circuit 10 times. Then, create a histogram of the final states of the qubits."
      ],
      "metadata": {
        "id": "6gYxxhtuAZxD"
      }
    },
    {
      "cell_type": "code",
      "source": [
        "my_qubits = cirq.NamedQubit.range( 3, prefix = \"q\")\n",
        "my_circuit = cirq.Circuit()\n",
        "my_circuit.append(cirq.measure(my_qubits))"
      ],
      "metadata": {
        "id": "jBVhsvDLAmIG"
      },
      "execution_count": 24,
      "outputs": []
    },
    {
      "cell_type": "code",
      "source": [
        "sim = cirq.Simulator()\n",
        "result = sim.run(my_circuit, repetitions=10)"
      ],
      "metadata": {
        "id": "Scoqqa2CApHU"
      },
      "execution_count": 25,
      "outputs": []
    },
    {
      "cell_type": "code",
      "source": [
        "hist = cirq.plot_state_histogram(result, plt.subplot(), title = 'Qubit States', xlabel = 'States', ylabel = 'Occurrences', tick_label=binary_labels(3))\n",
        "\n",
        "plt.show()"
      ],
      "metadata": {
        "colab": {
          "base_uri": "https://localhost:8080/",
          "height": 472
        },
        "id": "p-nOwovXAs8p",
        "outputId": "faaaf1bd-f2f8-4a5e-ff07-5d14c68d9232"
      },
      "execution_count": 26,
      "outputs": [
        {
          "output_type": "display_data",
          "data": {
            "text/plain": [
              "<Figure size 640x480 with 1 Axes>"
            ],
            "image/png": "[encoded data removed]"
          },
          "metadata": {}
        }
      ]
    },
    {
      "cell_type": "markdown",
      "source": [
        "# Problem #3.2\n",
        "\n",
        "---\n",
        "\n",
        "\n",
        "Together, simulate the results of your circuit from Problem #2.3 10 times. Then, create a histogram of the final states of the qubits."
      ],
      "metadata": {
        "id": "WzBgFXQDBNZv"
      }
    },
    {
      "cell_type": "code",
      "source": [
        "my_qubits = cirq.NamedQubit.range( 2, prefix = \"q\")\n",
        "my_circuit = cirq.Circuit()\n",
        "my_circuit.append(cirq.H(cirq.NamedQubit(\"q0\")))\n",
        "my_circuit.append(cirq.CNOT(cirq.NamedQubit(\"q0\"), cirq.NamedQubit(\"q1\")))\n",
        "my_circuit.append(cirq.measure(my_qubits))\n",
        "my_circuit"
      ],
      "metadata": {
        "colab": {
          "base_uri": "https://localhost:8080/",
          "height": 69
        },
        "id": "JCtwbNvnBWvf",
        "outputId": "b3135f51-2840-48a5-d0f9-d3a5bff3815a"
      },
      "execution_count": 27,
      "outputs": [
        {
          "output_type": "execute_result",
          "data": {
            "text/plain": [
              "q0: ───H───@───M───\n",
              "           │   │\n",
              "q1: ───────X───M───"
            ],
            "text/html": [
              "<pre style=\"overflow: auto; white-space: pre;\">q0: ───H───@───M───\n",
              "           │   │\n",
              "q1: ───────X───M───</pre>"
            ]
          },
          "metadata": {},
          "execution_count": 27
        }
      ]
    },
    {
      "cell_type": "code",
      "source": [
        "sim = cirq.Simulator()\n",
        "result = sim.run(my_circuit, repetitions=10)"
      ],
      "metadata": {
        "id": "VR3c7hf6B0yx"
      },
      "execution_count": 28,
      "outputs": []
    },
    {
      "cell_type": "code",
      "source": [
        "hist = cirq.plot_state_histogram(result, plt.subplot(), title = 'Qubit States', xlabel = 'States', ylabel = 'Occurrences', tick_label=binary_labels(2))\n",
        "\n",
        "plt.show()"
      ],
      "metadata": {
        "colab": {
          "base_uri": "https://localhost:8080/",
          "height": 472
        },
        "id": "7djiE2CsB4kL",
        "outputId": "f1b1be6e-e0a9-4359-d82b-40398b3fdddb"
      },
      "execution_count": 29,
      "outputs": [
        {
          "output_type": "display_data",
          "data": {
            "text/plain": [
              "<Figure size 640x480 with 1 Axes>"
            ],
            "image/png": "[encoded data removed]"
          },
          "metadata": {}
        }
      ]
    },
    {
      "cell_type": "markdown",
      "source": [
        "# Problem #3.3\n",
        "\n",
        "---\n",
        "\n",
        "\n",
        "Independently, repeat Problem #3.2, but with 100 repitions"
      ],
      "metadata": {
        "id": "gDTtd1G0B-gg"
      }
    },
    {
      "cell_type": "code",
      "source": [
        "my_qubits = cirq.NamedQubit.range( 2, prefix = \"q\")\n",
        "my_circuit = cirq.Circuit()\n",
        "my_circuit.append(cirq.H(cirq.NamedQubit(\"q0\")))\n",
        "my_circuit.append(cirq.CNOT(cirq.NamedQubit(\"q0\"), cirq.NamedQubit(\"q1\")))\n",
        "my_circuit.append(cirq.measure(my_qubits))\n",
        "my_circuit"
      ],
      "metadata": {
        "colab": {
          "base_uri": "https://localhost:8080/",
          "height": 69
        },
        "id": "qrPJqPZfCEzb",
        "outputId": "7dbd2e79-6dc9-44f0-aefa-e089a3cdbbe4"
      },
      "execution_count": 30,
      "outputs": [
        {
          "output_type": "execute_result",
          "data": {
            "text/plain": [
              "q0: ───H───@───M───\n",
              "           │   │\n",
              "q1: ───────X───M───"
            ],
            "text/html": [
              "<pre style=\"overflow: auto; white-space: pre;\">q0: ───H───@───M───\n",
              "           │   │\n",
              "q1: ───────X───M───</pre>"
            ]
          },
          "metadata": {},
          "execution_count": 30
        }
      ]
    },
    {
      "cell_type": "code",
      "source": [
        "sim = cirq.Simulator()\n",
        "result = sim.run(my_circuit, repetitions=100)"
      ],
      "metadata": {
        "id": "UZ4zQvksCH98"
      },
      "execution_count": 31,
      "outputs": []
    },
    {
      "cell_type": "code",
      "source": [
        "hist = cirq.plot_state_histogram(result, plt.subplot(), title = 'Qubit States', xlabel = 'States', ylabel = 'Occurrences', tick_label=binary_labels(2))\n",
        "\n",
        "plt.show()"
      ],
      "metadata": {
        "colab": {
          "base_uri": "https://localhost:8080/",
          "height": 472
        },
        "id": "r9gkA9rEDHyX",
        "outputId": "93af7d20-1f8d-41ea-b356-95998e98fe4f"
      },
      "execution_count": 32,
      "outputs": [
        {
          "output_type": "display_data",
          "data": {
            "text/plain": [
              "<Figure size 640x480 with 1 Axes>"
            ],
            "image/png": "[encoded data removed]"
          },
          "metadata": {}
        }
      ]
    },
    {
      "cell_type": "markdown",
      "source": [
        "# Problem #3.4\n",
        "\n",
        "---\n",
        "\n",
        "\n",
        "Independently, create three qubits. Create an empty quantum circuit. Append an H gate and a measurement to each qubit. Simulate the results of the circuit 100 times. Plot the results on a histogram."
      ],
      "metadata": {
        "id": "eIZGdJK8DLNB"
      }
    },
    {
      "cell_type": "code",
      "source": [
        "my_qubits = cirq.NamedQubit.range( 3, prefix = \"q\")\n",
        "my_circuit = cirq.Circuit()\n",
        "my_circuit.append(cirq.H.on_each(my_qubits))\n",
        "my_circuit.append(cirq.measure(my_qubits))"
      ],
      "metadata": {
        "id": "ul2A3WFDDPwJ"
      },
      "execution_count": 35,
      "outputs": []
    },
    {
      "cell_type": "code",
      "source": [
        "sim = cirq.Simulator()\n",
        "result = sim.run(my_circuit, repetitions = 100)"
      ],
      "metadata": {
        "id": "5IQ9fgzVDRtN"
      },
      "execution_count": 36,
      "outputs": []
    },
    {
      "cell_type": "code",
      "source": [
        "hist = cirq.plot_state_histogram(result, plt.subplot(), title = 'Qubit States', xlabel = 'States', ylabel = 'Occurrences', tick_label=binary_labels(3))\n",
        "\n",
        "plt.show()"
      ],
      "metadata": {
        "colab": {
          "base_uri": "https://localhost:8080/",
          "height": 472
        },
        "id": "uDVKzx5xDTbR",
        "outputId": "657d647d-dfcd-4ddc-a3d6-4eaa499215e3"
      },
      "execution_count": 37,
      "outputs": [
        {
          "output_type": "display_data",
          "data": {
            "text/plain": [
              "<Figure size 640x480 with 1 Axes>"
            ],
            "image/png": "[encoded data removed]"
          },
          "metadata": {}
        }
      ]
    },
    {
      "cell_type": "markdown",
      "source": [
        "# Problem #3.5\n",
        "\n",
        "---\n",
        "\n",
        "\n",
        "Independently, create a circuit with 3 qubits. Append an H gate the the first qubit. Add a CNOT gate such that the first qubit is the control and the second is the target. Add another CNOT gate such that second qubit is the control and the third is the target. Append a measurement to each qubit. Output your circuit. Simulate the results of your circuit 1000 times. Output the results on a histogram. What is the name of this type of entangled state?"
      ],
      "metadata": {
        "id": "gevmoxLPDbSW"
      }
    },
    {
      "cell_type": "code",
      "source": [
        "my_qubits = cirq.NamedQubit.range(3, prefix = \"q\")\n",
        "my_circuit = cirq.Circuit()\n",
        "my_circuit.append(cirq.H(cirq.NamedQubit(\"q0\")))\n",
        "my_circuit.append(cirq.CNOT(cirq.NamedQubit(\"q0\"), cirq.NamedQubit(\"q1\")))\n",
        "my_circuit.append(cirq.CNOT(cirq.NamedQubit(\"q1\"), cirq.NamedQubit(\"q2\")))\n",
        "my_circuit.append(cirq.measure(my_qubits))\n",
        "my_circuit"
      ],
      "metadata": {
        "colab": {
          "base_uri": "https://localhost:8080/",
          "height": 104
        },
        "id": "aGZ4brzbDeM3",
        "outputId": "79d75f03-5694-4b9c-de8a-82598470aa25"
      },
      "execution_count": 38,
      "outputs": [
        {
          "output_type": "execute_result",
          "data": {
            "text/plain": [
              "q0: ───H───@───────M───\n",
              "           │       │\n",
              "q1: ───────X───@───M───\n",
              "               │   │\n",
              "q2: ───────────X───M───"
            ],
            "text/html": [
              "<pre style=\"overflow: auto; white-space: pre;\">q0: ───H───@───────M───\n",
              "           │       │\n",
              "q1: ───────X───@───M───\n",
              "               │   │\n",
              "q2: ───────────X───M───</pre>"
            ]
          },
          "metadata": {},
          "execution_count": 38
        }
      ]
    },
    {
      "cell_type": "code",
      "source": [
        "sim = cirq.Simulator()\n",
        "result = sim.run(my_circuit, repetitions = 1000)"
      ],
      "metadata": {
        "id": "oT8gfXFlDeZW"
      },
      "execution_count": 39,
      "outputs": []
    },
    {
      "cell_type": "code",
      "source": [
        "hist = cirq.plot_state_histogram(result, plt.subplot(), title = 'Qubit States', xlabel = 'States', ylabel = 'Occurrences', tick_label=binary_labels(3))\n",
        "\n",
        "plt.show()\n",
        "print('This is a 3-qubit GHZ state!')"
      ],
      "metadata": {
        "colab": {
          "base_uri": "https://localhost:8080/",
          "height": 490
        },
        "id": "2WZn_kcfDejX",
        "outputId": "7dc8efec-68c1-43c2-aee3-31ef942e320f"
      },
      "execution_count": 40,
      "outputs": [
        {
          "output_type": "display_data",
          "data": {
            "text/plain": [
              "<Figure size 640x480 with 1 Axes>"
            ],
            "image/png": "[encoded data removed]"
          },
          "metadata": {}
        },
        {
          "output_type": "stream",
          "name": "stdout",
          "text": [
            "This is a 3-qubit GHZ state!\n"
          ]
        }
      ]
    }
  ]
}